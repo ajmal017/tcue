{
 "cells": [
  {
   "cell_type": "markdown",
   "metadata": {},
   "source": [
    "# Desarrollo de un modelo de análisis de sentimientos a partir de datos recuperados por twipper"
   ]
  },
  {
   "cell_type": "markdown",
   "metadata": {},
   "source": [
    "**por Álvaro Bartolomé del Canto @ alvarob96 en GitHub**"
   ]
  },
  {
   "cell_type": "markdown",
   "metadata": {},
   "source": [
    "---\n",
    "## Introducción"
   ]
  },
  {
   "cell_type": "markdown",
   "metadata": {},
   "source": [
    "A lo largo de este informe, se presentará el proceso de creación de un modelo de análisis de sentimientos en español, en base a los tweets previamente extraídos con [twipper](https://github.com/alvarob96/twipper) y categorizados de forma supervisada a través de la plataforma **tcue_sentiment**.\n",
    "\n",
    "Para la creación de este modelo, primero se hará un análisis exploratorio de los datos, es decir, de los tweets originales ya etiquetados e insertados en un `pandas.DataFrame` (recuperados de **MongoDB**, ya que este es el sistema de almacenamiento propio de **tcue_platform**). Después, se hará uso del modelo de lenguaje creado para el español, que se basa en la limpieza y tokenización del texto de entrada, lo cual a su vez, más adelante, servirá de entrada al modelado. Finalmente, para crear el modelo, se aplicará un algoritmo de **Feature Extraction**, seguido de un **Classifier**, que sea capaz de clasificar nuevos tweets de entrada en cada una de las categorías determinadas por sentimiento (negativo, neutral y positivo).\n",
    "\n",
    "Destacar que el punto fuerte de dicha propuesta consiste en la elaboración de un sistema de **NLP en español**, que combinando una serie de técnicas de análisis de lenguaje junto con algoritmos de **Machine Learning**, darán lugar a la creación de un **modelo de análisis de sentimientos en español**."
   ]
  },
  {
   "cell_type": "markdown",
   "metadata": {},
   "source": [
    "---\n",
    "## Recuperación de los Datos"
   ]
  },
  {
   "cell_type": "code",
   "execution_count": 19,
   "metadata": {},
   "outputs": [],
   "source": [
    "import warnings\n",
    "warnings.filterwarnings('ignore')"
   ]
  },
  {
   "cell_type": "code",
   "execution_count": 20,
   "metadata": {},
   "outputs": [],
   "source": [
    "import pandas as pd\n",
    "import pickle"
   ]
  },
  {
   "cell_type": "markdown",
   "metadata": {},
   "source": [
    "De este modo, inicialmente se procederá a la carga de los datos a través de [pickle](https://docs.python.org/3/library/pickle.html), que es un sistema para la serialización de objetos en Python que almacena su contenido sobre un fichero de texto, que posteriomente, podrá ser leido directamente sobre un objeto de Python de igual forma."
   ]
  },
  {
   "cell_type": "code",
   "execution_count": 21,
   "metadata": {},
   "outputs": [],
   "source": [
    "with open('resources/sentiment.pickle', 'rb') as pick:\n",
    "    df = pickle.load(pick)"
   ]
  },
  {
   "cell_type": "code",
   "execution_count": 22,
   "metadata": {
    "scrolled": false
   },
   "outputs": [
    {
     "data": {
      "text/html": [
       "<div>\n",
       "<style scoped>\n",
       "    .dataframe tbody tr th:only-of-type {\n",
       "        vertical-align: middle;\n",
       "    }\n",
       "\n",
       "    .dataframe tbody tr th {\n",
       "        vertical-align: top;\n",
       "    }\n",
       "\n",
       "    .dataframe thead th {\n",
       "        text-align: right;\n",
       "    }\n",
       "</style>\n",
       "<table border=\"1\" class=\"dataframe\">\n",
       "  <thead>\n",
       "    <tr style=\"text-align: right;\">\n",
       "      <th></th>\n",
       "      <th>sentiment</th>\n",
       "      <th>tweet</th>\n",
       "    </tr>\n",
       "  </thead>\n",
       "  <tbody>\n",
       "    <tr>\n",
       "      <td>0</td>\n",
       "      <td>positive</td>\n",
       "      <td>Impresionante como siempre la última temporada...</td>\n",
       "    </tr>\n",
       "    <tr>\n",
       "      <td>1</td>\n",
       "      <td>neutral</td>\n",
       "      <td>Esta acción, que hasta ahora se tenía que inte...</td>\n",
       "    </tr>\n",
       "    <tr>\n",
       "      <td>2</td>\n",
       "      <td>neutral</td>\n",
       "      <td>Ladran, Sancho, señal que cabalgamos Bona nit!</td>\n",
       "    </tr>\n",
       "    <tr>\n",
       "      <td>3</td>\n",
       "      <td>neutral</td>\n",
       "      <td>Se q alguien cuando lo lea se le caeran lágrim...</td>\n",
       "    </tr>\n",
       "    <tr>\n",
       "      <td>4</td>\n",
       "      <td>positive</td>\n",
       "      <td>Bueno toca descansar mañana pa Córdoba</td>\n",
       "    </tr>\n",
       "  </tbody>\n",
       "</table>\n",
       "</div>"
      ],
      "text/plain": [
       "  sentiment                                              tweet\n",
       "0  positive  Impresionante como siempre la última temporada...\n",
       "1   neutral  Esta acción, que hasta ahora se tenía que inte...\n",
       "2   neutral     Ladran, Sancho, señal que cabalgamos Bona nit!\n",
       "3   neutral  Se q alguien cuando lo lea se le caeran lágrim...\n",
       "4  positive             Bueno toca descansar mañana pa Córdoba"
      ]
     },
     "execution_count": 22,
     "metadata": {},
     "output_type": "execute_result"
    }
   ],
   "source": [
    "df.head()"
   ]
  },
  {
   "cell_type": "markdown",
   "metadata": {},
   "source": [
    "---\n",
    "## Análisis Exploratorio de los Datos"
   ]
  },
  {
   "cell_type": "markdown",
   "metadata": {},
   "source": [
    "Para realizar el análisis exploratorio de los datos, dado que el `pandas.DataFrame` tan solo contiene dos columnas, seré breve. De este modo, se calculará y analizará la longitud de cada uno de los tweets ya clasificados y se buscará una posible correlación entre la longitud de un tweet para con el sentimiento con el que se ha categorizado de forma supervisada previamente a través de la plataforma **tcue_sentiment**."
   ]
  },
  {
   "cell_type": "code",
   "execution_count": 23,
   "metadata": {},
   "outputs": [],
   "source": [
    "df['tweet_length'] = df['tweet'].str.len()"
   ]
  },
  {
   "cell_type": "code",
   "execution_count": 24,
   "metadata": {},
   "outputs": [],
   "source": [
    "import matplotlib.pyplot as plt\n",
    "%matplotlib inline\n",
    "import seaborn as sns\n",
    "sns.set(style='whitegrid')"
   ]
  },
  {
   "cell_type": "markdown",
   "metadata": {},
   "source": [
    "Se mostrará la distribución de la longitud de los tweets de entre todos los tweets contenidos en el `pandas.DataFrame`, para así poder determinar cúal es la longitud \"normal\" de un tweet."
   ]
  },
  {
   "cell_type": "code",
   "execution_count": 25,
   "metadata": {},
   "outputs": [
    {
     "data": {
      "text/plain": [
       "<matplotlib.axes._subplots.AxesSubplot at 0x21b70554a58>"
      ]
     },
     "execution_count": 25,
     "metadata": {},
     "output_type": "execute_result"
    },
    {
     "data": {
      "image/png": "[encoded data removed]",
      "text/plain": [
       "<Figure size 921.6x432 with 1 Axes>"
      ]
     },
     "metadata": {},
     "output_type": "display_data"
    }
   ],
   "source": [
    "plt.figure(figsize=(12.8,6))\n",
    "\n",
    "sns.distplot(df['tweet_length'])"
   ]
  },
  {
   "cell_type": "markdown",
   "metadata": {},
   "source": [
    "De la distribución anterior, se determina que la longitud de un tweet por lo general suele estar por debajo de los 100 caracteres, lo cual implica que la mayoría de tweets son opiniones directas y ausentes de un gran contenido, con lo que las palabras relevantes, de cara al modelado, de cada uno de dichos tweets serán pocas. Es más raro ver tweets con una longitud mayor de 100, pero aún así dichos tweets también están presentes en el `pandas.DataFrame`."
   ]
  },
  {
   "cell_type": "markdown",
   "metadata": {},
   "source": [
    "---\n",
    "Ahora, se mostrará un gráfico de barras con el fin de determinar cúantos tweets se han clasificado de forma supervisada a través de la plataforma **tcue_sentiment**, para así poder determinar la tendencia a la hora de publicar tweets."
   ]
  },
  {
   "cell_type": "code",
   "execution_count": 44,
   "metadata": {
    "scrolled": false
   },
   "outputs": [
    {
     "data": {
      "text/plain": [
       "<matplotlib.axes._subplots.AxesSubplot at 0x21b70ad9a90>"
      ]
     },
     "execution_count": 44,
     "metadata": {},
     "output_type": "execute_result"
    },
    {
     "data": {
      "image/png": "[encoded data removed]",
      "text/plain": [
       "<Figure size 921.6x432 with 1 Axes>"
      ]
     },
     "metadata": {},
     "output_type": "display_data"
    }
   ],
   "source": [
    "plt.figure(figsize=(12.8,6))\n",
    "\n",
    "aux = df.groupby('sentiment').count()\n",
    "\n",
    "sns.barplot(data=aux, x=aux.index, y='tweet')"
   ]
  },
  {
   "cell_type": "markdown",
   "metadata": {},
   "source": [
    "Tal y como se puede observar en el gráfico de barras previamente mostrado, la cantidad de tweets que han sido categorizados como neutrales es notoriamente superior a los que se han clasificado bien como positivos o bien como negativos, de forma supervisada. Con esto, dadas las muestras tomadas se deduce que la opinión general en Twitter tiene un sentimiento neutral, mientras que la positiva y la negativa van más o menos a la par."
   ]
  },
  {
   "cell_type": "markdown",
   "metadata": {},
   "source": [
    "---\n",
    "Por último, se realizará una representación cruzada de las mencionadas anteriormente, donde se observa la distribución cuantitativa de los datos previamente mencionados comparando así la longitud de un tweet con el sentimiento al que pertenece, con el fin de determinar si el sentimiento está de algún modo relacionado con el tamaño del tweet."
   ]
  },
  {
   "cell_type": "code",
   "execution_count": 45,
   "metadata": {},
   "outputs": [
    {
     "data": {
      "text/plain": [
       "<matplotlib.axes._subplots.AxesSubplot at 0x21b70b4c278>"
      ]
     },
     "execution_count": 45,
     "metadata": {},
     "output_type": "execute_result"
    },
    {
     "data": {
      "image/png": "[encoded data removed]",
      "text/plain": [
       "<Figure size 921.6x432 with 1 Axes>"
      ]
     },
     "metadata": {},
     "output_type": "display_data"
    }
   ],
   "source": [
    "plt.figure(figsize=(12.8,6))\n",
    "\n",
    "sns.boxplot(data=df, x='tweet_length', y='sentiment')"
   ]
  },
  {
   "cell_type": "markdown",
   "metadata": {},
   "source": [
    "De esta gráfica extraemos la conclusión de que, por lo general, la longitud de los tweets neutrales suele ser algo mayor que la longitud de los positivos y negativos; aunque dado que hay más tweets neutrales en el `pandas.DataFrame`, el dato tampoco es muy revelador."
   ]
  },
  {
   "cell_type": "markdown",
   "metadata": {},
   "source": [
    "---\n",
    "## Limpieza y Pre-Procesamiento de los Tweets"
   ]
  },
  {
   "cell_type": "markdown",
   "metadata": {},
   "source": [
    "Ahora, antes de realizar el modelo con los tweets, será necesario limpiarlos y pre-procesarlos de cara a establecer el algoritmo de _Feature Extraction_ a utilizar."
   ]
  },
  {
   "cell_type": "markdown",
   "metadata": {},
   "source": [
    "Por tanto, se llevarán a cabo dos tipos de limpieza/pre-procesamiento, que consisten en mantener tan solo las palabras útiles de cara a la creación del modelo, lo cual implica la eliminación de *stopwords* o palabras irrelevantes que se producen con mucha frecuencia en el lenguaje español y que no aportan ningun significado útil de cara a la creación del modelo."
   ]
  },
  {
   "cell_type": "code",
   "execution_count": 46,
   "metadata": {},
   "outputs": [],
   "source": [
    "def get_stopwords():\n",
    "    stopwords_list = list()\n",
    "\n",
    "    with open('resources/stopwords-es.txt', 'rt', encoding='utf-8') as stopwords:\n",
    "        for stopword in stopwords.readlines():\n",
    "            stopwords_list.append(stopword.strip())\n",
    "\n",
    "        stopwords.close()\n",
    "        \n",
    "    return stopwords_list"
   ]
  },
  {
   "cell_type": "markdown",
   "metadata": {},
   "source": [
    "Además, se realizará un proceso de limpieza de palabras que no se requieren para el modelo, como lo son las URL, los tags HTML o los espacios múltiples que serán eliminados. También se aplicará una expresión regular de cara a buscar solo las palabras, de modo que se insertarán en una lista. Dicha lista será el resultado de la tokenización del tweet de entrada, que será utilizado más adelante para el proceso de _Feature Extraction_."
   ]
  },
  {
   "cell_type": "code",
   "execution_count": 47,
   "metadata": {},
   "outputs": [],
   "source": [
    "import re"
   ]
  },
  {
   "cell_type": "code",
   "execution_count": 48,
   "metadata": {},
   "outputs": [],
   "source": [
    "def tokenizer(tweet, stopwords_list):\n",
    "    url_pattern = re.compile('http[s]?://(?:[a-zA-Z]|[0-9]|[$-_@.&+]|[!*\\(\\),]|(?:%[0-9a-fA-F][0-9a-fA-F]))+')\n",
    "    html_pattern = re.compile('<.*?>|&([a-z0-9]+|#[0-9]{1,6}|#x[0-9a-f]{1,6});')\n",
    "    spaces_pattern = re.compile('[ ]{2,}')\n",
    "    \n",
    "    result = url_pattern.sub('', tweet)\n",
    "    result = html_pattern.sub('', result)\n",
    "    result = spaces_pattern.sub('', result)\n",
    "    result = re.findall('\\w+', result)\n",
    "    \n",
    "    result = ' '.join([word.lower() for word in result if word.lower() not in stopwords_list])\n",
    "    \n",
    "    return result"
   ]
  },
  {
   "cell_type": "markdown",
   "metadata": {},
   "source": [
    "Entonces el resultado de la tokenización de cada uno de los tweets originales de la colección original, será insertado en una nueva columna en la fila correspondiente del `pandas.DataFrame` de forma que, no tan solo contendrá el tweet original, sino el tweet tokenizado separado por espacios con las únicas palabras relevantes para la creación del modelo."
   ]
  },
  {
   "cell_type": "code",
   "execution_count": 49,
   "metadata": {},
   "outputs": [],
   "source": [
    "stopwords_list = get_stopwords()"
   ]
  },
  {
   "cell_type": "code",
   "execution_count": 50,
   "metadata": {},
   "outputs": [],
   "source": [
    "results = [tokenizer(tweet, stopwords_list) for tweet in df['tweet']]"
   ]
  },
  {
   "cell_type": "code",
   "execution_count": 51,
   "metadata": {},
   "outputs": [],
   "source": [
    "df['tokenized'] = results"
   ]
  },
  {
   "cell_type": "code",
   "execution_count": 52,
   "metadata": {},
   "outputs": [
    {
     "data": {
      "text/html": [
       "<div>\n",
       "<style scoped>\n",
       "    .dataframe tbody tr th:only-of-type {\n",
       "        vertical-align: middle;\n",
       "    }\n",
       "\n",
       "    .dataframe tbody tr th {\n",
       "        vertical-align: top;\n",
       "    }\n",
       "\n",
       "    .dataframe thead th {\n",
       "        text-align: right;\n",
       "    }\n",
       "</style>\n",
       "<table border=\"1\" class=\"dataframe\">\n",
       "  <thead>\n",
       "    <tr style=\"text-align: right;\">\n",
       "      <th></th>\n",
       "      <th>sentiment</th>\n",
       "      <th>tweet</th>\n",
       "      <th>tweet_length</th>\n",
       "      <th>tokenized</th>\n",
       "      <th>sentiment_code</th>\n",
       "    </tr>\n",
       "  </thead>\n",
       "  <tbody>\n",
       "    <tr>\n",
       "      <td>0</td>\n",
       "      <td>positive</td>\n",
       "      <td>Impresionante como siempre la última temporada...</td>\n",
       "      <td>120</td>\n",
       "      <td>impresionante temporada blackmirror corta inte...</td>\n",
       "      <td>1</td>\n",
       "    </tr>\n",
       "    <tr>\n",
       "      <td>1</td>\n",
       "      <td>neutral</td>\n",
       "      <td>Esta acción, que hasta ahora se tenía que inte...</td>\n",
       "      <td>191</td>\n",
       "      <td>acción intereumpir mostrar cartulina reglas to...</td>\n",
       "      <td>0</td>\n",
       "    </tr>\n",
       "    <tr>\n",
       "      <td>2</td>\n",
       "      <td>neutral</td>\n",
       "      <td>Ladran, Sancho, señal que cabalgamos Bona nit!</td>\n",
       "      <td>46</td>\n",
       "      <td>ladran sancho señal cabalgamos bona nit</td>\n",
       "      <td>0</td>\n",
       "    </tr>\n",
       "    <tr>\n",
       "      <td>3</td>\n",
       "      <td>neutral</td>\n",
       "      <td>Se q alguien cuando lo lea se le caeran lágrim...</td>\n",
       "      <td>85</td>\n",
       "      <td>alguien lea caeran lágrimas puños jajaja lella...</td>\n",
       "      <td>0</td>\n",
       "    </tr>\n",
       "    <tr>\n",
       "      <td>4</td>\n",
       "      <td>positive</td>\n",
       "      <td>Bueno toca descansar mañana pa Córdoba</td>\n",
       "      <td>38</td>\n",
       "      <td>toca descansar mañana pa córdoba</td>\n",
       "      <td>1</td>\n",
       "    </tr>\n",
       "  </tbody>\n",
       "</table>\n",
       "</div>"
      ],
      "text/plain": [
       "  sentiment                                              tweet  tweet_length  \\\n",
       "0  positive  Impresionante como siempre la última temporada...           120   \n",
       "1   neutral  Esta acción, que hasta ahora se tenía que inte...           191   \n",
       "2   neutral     Ladran, Sancho, señal que cabalgamos Bona nit!            46   \n",
       "3   neutral  Se q alguien cuando lo lea se le caeran lágrim...            85   \n",
       "4  positive             Bueno toca descansar mañana pa Córdoba            38   \n",
       "\n",
       "                                           tokenized  sentiment_code  \n",
       "0  impresionante temporada blackmirror corta inte...               1  \n",
       "1  acción intereumpir mostrar cartulina reglas to...               0  \n",
       "2            ladran sancho señal cabalgamos bona nit               0  \n",
       "3  alguien lea caeran lágrimas puños jajaja lella...               0  \n",
       "4                   toca descansar mañana pa córdoba               1  "
      ]
     },
     "execution_count": 52,
     "metadata": {},
     "output_type": "execute_result"
    }
   ],
   "source": [
    "df.head()"
   ]
  },
  {
   "cell_type": "markdown",
   "metadata": {},
   "source": [
    "---\n",
    "## Modelo de Análisis de Sentimiento"
   ]
  },
  {
   "cell_type": "markdown",
   "metadata": {},
   "source": [
    "### Preparación de las Etiquetas"
   ]
  },
  {
   "cell_type": "markdown",
   "metadata": {},
   "source": [
    "A lo largo de esta fase, de cara a preparar los datos para crear el modelo de análisis de sentimientos, se etiquerán los distintos sentimientos (**negativo, neutral y positivo**) con números, con el fin de fecilitar el algoritmo de clasificación dado que tanto la entrada como la salida son números enteros."
   ]
  },
  {
   "cell_type": "markdown",
   "metadata": {},
   "source": [
    "Dado que los tweets ya están etiquetados por sentimientos, tan solo será necesario alterar el `pandas.DataFrame` añadiendo una nueva columna que contendrá el código del sentimiento. De este modo, los tweets etiquetados de forma supervisada como negativos y tras ser debidamente tokenizados, serán de la forma:"
   ]
  },
  {
   "cell_type": "code",
   "execution_count": 53,
   "metadata": {},
   "outputs": [
    {
     "data": {
      "text/plain": [
       "['servicio unicajabanco visto años', 'poto']"
      ]
     },
     "execution_count": 53,
     "metadata": {},
     "output_type": "execute_result"
    }
   ],
   "source": [
    "df[df['sentiment'] == 'negative']['tokenized'].tolist()[:2]"
   ]
  },
  {
   "cell_type": "markdown",
   "metadata": {},
   "source": [
    "Se establece el sistema de numeración por las etiquetas, donde cada sentimiento será un número comprendido entre -1 y 1, para los sentimientos negativo, neutral y positivo, respectivamente."
   ]
  },
  {
   "cell_type": "code",
   "execution_count": 54,
   "metadata": {},
   "outputs": [],
   "source": [
    "sentiment_codes = {\n",
    "    'negative': -1,\n",
    "    'neutral': 0,\n",
    "    'positive': 1,\n",
    "}"
   ]
  },
  {
   "cell_type": "code",
   "execution_count": 55,
   "metadata": {},
   "outputs": [],
   "source": [
    "df['sentiment_code'] = df['sentiment']\n",
    "df = df.replace({'sentiment_code': sentiment_codes})"
   ]
  },
  {
   "cell_type": "code",
   "execution_count": 56,
   "metadata": {},
   "outputs": [
    {
     "data": {
      "text/html": [
       "<div>\n",
       "<style scoped>\n",
       "    .dataframe tbody tr th:only-of-type {\n",
       "        vertical-align: middle;\n",
       "    }\n",
       "\n",
       "    .dataframe tbody tr th {\n",
       "        vertical-align: top;\n",
       "    }\n",
       "\n",
       "    .dataframe thead th {\n",
       "        text-align: right;\n",
       "    }\n",
       "</style>\n",
       "<table border=\"1\" class=\"dataframe\">\n",
       "  <thead>\n",
       "    <tr style=\"text-align: right;\">\n",
       "      <th></th>\n",
       "      <th>sentiment</th>\n",
       "      <th>tweet</th>\n",
       "      <th>tweet_length</th>\n",
       "      <th>tokenized</th>\n",
       "      <th>sentiment_code</th>\n",
       "    </tr>\n",
       "  </thead>\n",
       "  <tbody>\n",
       "    <tr>\n",
       "      <td>0</td>\n",
       "      <td>positive</td>\n",
       "      <td>Impresionante como siempre la última temporada...</td>\n",
       "      <td>120</td>\n",
       "      <td>impresionante temporada blackmirror corta inte...</td>\n",
       "      <td>1</td>\n",
       "    </tr>\n",
       "    <tr>\n",
       "      <td>1</td>\n",
       "      <td>neutral</td>\n",
       "      <td>Esta acción, que hasta ahora se tenía que inte...</td>\n",
       "      <td>191</td>\n",
       "      <td>acción intereumpir mostrar cartulina reglas to...</td>\n",
       "      <td>0</td>\n",
       "    </tr>\n",
       "    <tr>\n",
       "      <td>2</td>\n",
       "      <td>neutral</td>\n",
       "      <td>Ladran, Sancho, señal que cabalgamos Bona nit!</td>\n",
       "      <td>46</td>\n",
       "      <td>ladran sancho señal cabalgamos bona nit</td>\n",
       "      <td>0</td>\n",
       "    </tr>\n",
       "    <tr>\n",
       "      <td>3</td>\n",
       "      <td>neutral</td>\n",
       "      <td>Se q alguien cuando lo lea se le caeran lágrim...</td>\n",
       "      <td>85</td>\n",
       "      <td>alguien lea caeran lágrimas puños jajaja lella...</td>\n",
       "      <td>0</td>\n",
       "    </tr>\n",
       "    <tr>\n",
       "      <td>4</td>\n",
       "      <td>positive</td>\n",
       "      <td>Bueno toca descansar mañana pa Córdoba</td>\n",
       "      <td>38</td>\n",
       "      <td>toca descansar mañana pa córdoba</td>\n",
       "      <td>1</td>\n",
       "    </tr>\n",
       "  </tbody>\n",
       "</table>\n",
       "</div>"
      ],
      "text/plain": [
       "  sentiment                                              tweet  tweet_length  \\\n",
       "0  positive  Impresionante como siempre la última temporada...           120   \n",
       "1   neutral  Esta acción, que hasta ahora se tenía que inte...           191   \n",
       "2   neutral     Ladran, Sancho, señal que cabalgamos Bona nit!            46   \n",
       "3   neutral  Se q alguien cuando lo lea se le caeran lágrim...            85   \n",
       "4  positive             Bueno toca descansar mañana pa Córdoba            38   \n",
       "\n",
       "                                           tokenized  sentiment_code  \n",
       "0  impresionante temporada blackmirror corta inte...               1  \n",
       "1  acción intereumpir mostrar cartulina reglas to...               0  \n",
       "2            ladran sancho señal cabalgamos bona nit               0  \n",
       "3  alguien lea caeran lágrimas puños jajaja lella...               0  \n",
       "4                   toca descansar mañana pa córdoba               1  "
      ]
     },
     "execution_count": 56,
     "metadata": {},
     "output_type": "execute_result"
    }
   ],
   "source": [
    "df.head()"
   ]
  },
  {
   "cell_type": "markdown",
   "metadata": {},
   "source": [
    "Ahora se divide el dataset previamente creado como un `pandas.DataFrame` en **train** y **test** en 90% y 10%, de modo que el modelo resultante tomará como datos de entrada el 90% de los tweets clasificados en positivo, negativo o neutral de forma supervisada, mientras que el 10% restante será utilizado para probar la precisión del algoritmo."
   ]
  },
  {
   "cell_type": "code",
   "execution_count": 57,
   "metadata": {},
   "outputs": [],
   "source": [
    "from sklearn.model_selection import train_test_split"
   ]
  },
  {
   "cell_type": "code",
   "execution_count": 58,
   "metadata": {},
   "outputs": [],
   "source": [
    "X_train, X_test, y_train, y_test = train_test_split(df['tokenized'],\n",
    "                                                    df['sentiment_code'],\n",
    "                                                    test_size=0.10)"
   ]
  },
  {
   "cell_type": "markdown",
   "metadata": {},
   "source": [
    "---\n",
    "### Feature Extraction"
   ]
  },
  {
   "cell_type": "markdown",
   "metadata": {},
   "source": [
    "Una vez disponemos del listado de *tokens* o palabras relevantes del documento tras la limpieza y el pre-procesamiento, se procederá a la implementación del modelo de **TF-IDF** (*Term Frequency - Inverse Document Frequency*), a través del cual se obtendrán las palabras clave o *keywords* con una mayor frecuencia de aparición a lo largo del documento."
   ]
  },
  {
   "cell_type": "code",
   "execution_count": 59,
   "metadata": {},
   "outputs": [
    {
     "data": {
      "image/png": "[encoded data removed]",
      "text/plain": [
       "<IPython.core.display.Image object>"
      ]
     },
     "execution_count": 59,
     "metadata": {},
     "output_type": "execute_result"
    }
   ],
   "source": [
    "from IPython.display import Image\n",
    "Image(filename='resources/tfidf.png') "
   ]
  },
  {
   "cell_type": "markdown",
   "metadata": {},
   "source": [
    "Se utilizará la biblioteca [scikit-learn](https://scikit-learn.org/stable/) para la implementación del algoritmo **TF-IDF**. Es decir, se realizará un proceso de _Feature Extraction_ sobre los tweets ya tokenizados de entrada, para así convertir cada una de las palabras o tokens en números, junto con su frecuencia de aparición en cada tweet y a lo largo de toda la colección de tweets.\n",
    "\n",
    "Referencia TfidfVectorizer: https://scikit-learn.org/stable/modules/generated/sklearn.feature_extraction.text.TfidfVectorizer.html"
   ]
  },
  {
   "cell_type": "code",
   "execution_count": 60,
   "metadata": {},
   "outputs": [],
   "source": [
    "from sklearn.feature_extraction.text import TfidfVectorizer"
   ]
  },
  {
   "cell_type": "code",
   "execution_count": 71,
   "metadata": {},
   "outputs": [],
   "source": [
    "tfidf = TfidfVectorizer(encoding='utf-8',\n",
    "                        max_features=10000,\n",
    "                        norm='l2',\n",
    "                        sublinear_tf=True)"
   ]
  },
  {
   "cell_type": "markdown",
   "metadata": {},
   "source": [
    "Una vez se ha ajustado el algoritmo con los datos de entrada, en este caso una lista de *tokens* extraidos y pre-procesados a partir del resultado de *Twitter*, se procede a la definición de una función para la obtención de los N términos más relevantes, es decir, aquellos con una mayor frecuencia de aparación; junto con la creación de las variables que servirán de entrada al algoritmo de clasificación que dará lugar a la creación de un modelo de análisis de sentimientos."
   ]
  },
  {
   "cell_type": "code",
   "execution_count": 72,
   "metadata": {},
   "outputs": [],
   "source": [
    "features_train = tfidf.fit_transform(X_train).toarray()\n",
    "labels_train = y_train"
   ]
  },
  {
   "cell_type": "code",
   "execution_count": 107,
   "metadata": {},
   "outputs": [],
   "source": [
    "import pickle"
   ]
  },
  {
   "cell_type": "code",
   "execution_count": 106,
   "metadata": {},
   "outputs": [],
   "source": [
    "with open('resources/tfidf.pickle', 'wb') as file_:\n",
    "    pickle.dump(tfidf, file_)"
   ]
  },
  {
   "cell_type": "code",
   "execution_count": 73,
   "metadata": {},
   "outputs": [],
   "source": [
    "features_test = tfidf.transform(X_test).toarray()\n",
    "labels_test = y_test"
   ]
  },
  {
   "cell_type": "code",
   "execution_count": 74,
   "metadata": {},
   "outputs": [],
   "source": [
    "from sklearn.feature_selection import chi2\n",
    "import numpy as np"
   ]
  },
  {
   "cell_type": "code",
   "execution_count": 75,
   "metadata": {},
   "outputs": [
    {
     "name": "stdout",
     "output_type": "stream",
     "text": [
      "\n",
      "# Categoría 'negative':\n",
      ". asco\n",
      ". heterótrofa\n",
      ". triste\n",
      ". puta\n",
      ". mierda\n",
      "\n",
      "# Categoría 'neutral':\n",
      ". amo\n",
      ". puta\n",
      ". feliz\n",
      ". gracias\n",
      ". mierda\n",
      "\n",
      "# Categoría 'positive':\n",
      ". abrazo\n",
      ". enhorabuena\n",
      ". amo\n",
      ". feliz\n",
      ". gracias\n"
     ]
    }
   ],
   "source": [
    "for sentiment, sentiment_id in sorted(sentiment_codes.items()):\n",
    "    features_chi2 = chi2(features_train, labels_train == sentiment_id)\n",
    "    indices = np.argsort(features_chi2[0])\n",
    "    \n",
    "    feature_names = np.array(tfidf.get_feature_names())[indices]\n",
    "    \n",
    "    unigrams = [v for v in feature_names if len(v.split(' ')) == 1]\n",
    "    \n",
    "    print(\"\\n# Categoría '{}':\".format(sentiment))\n",
    "    print(\". {}\".format('\\n. '.join(unigrams[-5:])))"
   ]
  },
  {
   "cell_type": "markdown",
   "metadata": {},
   "source": [
    "De esta forma, podemos comprobar de forma supervisada las _features_ extraídas tras aplicar **TF-IDF**, con el fin de ver si los datos recuperados, limpiados, pre-procesados son válidos en base a los sentimientos para con los cuales se relacionan las palabras principales de cada uno de estos sentimientos."
   ]
  },
  {
   "cell_type": "markdown",
   "metadata": {},
   "source": [
    "---\n",
    "### Algoritmo de Clasificación"
   ]
  },
  {
   "cell_type": "markdown",
   "metadata": {},
   "source": [
    "El algoritmo elegido para la creación del modelo es, obviamente, un modelo de clasificación, dado que la entrada del algoritmo será el resultante de aplicar **TfidfVectorizer** a una colección de tweets etiquetados en base a la clasificación supervisada de los mismos en sentimientos (positivo, negativo o neutral). Por tanto, se utilizará el algoritmo **RandomForestClassifier**, que es un estimador que se ajusta a un número de clasificadores de árboles de decisión en varias submuestras del conjunto de datos y utiliza el promedio para mejorar la precisión predictiva y el problema de sobre-muestreo. El tamaño de la submuestra es siempre el mismo que el tamaño original de la muestra de entrada, pero las muestras se extraen con reemplazo si bootstrap=True (por defecto).\n",
    "\n",
    "Referencia RandomForestClassifier: https://scikit-learn.org/stable/modules/generated/sklearn.ensemble.RandomForestClassifier.html"
   ]
  },
  {
   "cell_type": "code",
   "execution_count": 76,
   "metadata": {},
   "outputs": [
    {
     "data": {
      "image/jpeg": "[encoded data removed]",
      "text/plain": [
       "<IPython.core.display.Image object>"
      ]
     },
     "execution_count": 76,
     "metadata": {},
     "output_type": "execute_result"
    }
   ],
   "source": [
    "from IPython.display import Image\n",
    "Image(filename='resources/randomforest.jpg') "
   ]
  },
  {
   "cell_type": "code",
   "execution_count": 77,
   "metadata": {},
   "outputs": [],
   "source": [
    "from sklearn.ensemble import RandomForestClassifier"
   ]
  },
  {
   "cell_type": "code",
   "execution_count": 78,
   "metadata": {},
   "outputs": [],
   "source": [
    "forest = RandomForestClassifier()"
   ]
  },
  {
   "cell_type": "code",
   "execution_count": 79,
   "metadata": {},
   "outputs": [
    {
     "data": {
      "text/plain": [
       "{'bootstrap': True,\n",
       " 'class_weight': None,\n",
       " 'criterion': 'gini',\n",
       " 'max_depth': None,\n",
       " 'max_features': 'auto',\n",
       " 'max_leaf_nodes': None,\n",
       " 'min_impurity_decrease': 0.0,\n",
       " 'min_impurity_split': None,\n",
       " 'min_samples_leaf': 1,\n",
       " 'min_samples_split': 2,\n",
       " 'min_weight_fraction_leaf': 0.0,\n",
       " 'n_estimators': 'warn',\n",
       " 'n_jobs': None,\n",
       " 'oob_score': False,\n",
       " 'random_state': None,\n",
       " 'verbose': 0,\n",
       " 'warm_start': False}"
      ]
     },
     "execution_count": 79,
     "metadata": {},
     "output_type": "execute_result"
    }
   ],
   "source": [
    "forest.get_params()"
   ]
  },
  {
   "cell_type": "markdown",
   "metadata": {},
   "source": [
    "Por tanto, en base a los parámetros aceptados por **RandomForestClassifier**, se procede a la creación de un diccionario con los posibles valores de los mismos en una lista, con el que se realizará una validación cruzada con el fin de probar todas y cada una de las posibles combinaciones de los mismos, lo cual ayudará a determinar cúal es la mejor combinación de híper-parámetros para obtener el procentaje de precisión más alto."
   ]
  },
  {
   "cell_type": "code",
   "execution_count": 80,
   "metadata": {},
   "outputs": [],
   "source": [
    "params = {\n",
    "    'bootstrap': [True],\n",
    "    'criterion': ['gini', 'entropy'],\n",
    "    'max_features': ['auto', 'sqrt', 'log2'],\n",
    "    'n_estimators': [100],\n",
    "}"
   ]
  },
  {
   "cell_type": "markdown",
   "metadata": {},
   "source": [
    "Para realizar la validación cruzada de los algoritmos implementados por **sklearn**, se puede hacer uso de la utilidad **GridSearchCV**, que dado un diccionario con los valores de los híper-parámetros a probar, realiza el proceso de validación cruzada de los mismos dado un mismo dataset, de modo que se obtiene la mejor combinación para cada dataset individual."
   ]
  },
  {
   "cell_type": "code",
   "execution_count": 81,
   "metadata": {},
   "outputs": [],
   "source": [
    "from sklearn.model_selection import GridSearchCV"
   ]
  },
  {
   "cell_type": "code",
   "execution_count": 86,
   "metadata": {},
   "outputs": [],
   "source": [
    "gridsearch = GridSearchCV(estimator=forest,\n",
    "                          param_grid=params,\n",
    "                          cv=2,\n",
    "                          n_jobs=1)"
   ]
  },
  {
   "cell_type": "code",
   "execution_count": 87,
   "metadata": {},
   "outputs": [
    {
     "data": {
      "text/plain": [
       "GridSearchCV(cv=2, error_score='raise-deprecating',\n",
       "       estimator=RandomForestClassifier(bootstrap=True, class_weight=None, criterion='gini',\n",
       "            max_depth=None, max_features='auto', max_leaf_nodes=None,\n",
       "            min_impurity_decrease=0.0, min_impurity_split=None,\n",
       "            min_samples_leaf=1, min_samples_split=2,\n",
       "            min_weight_fraction_leaf=0.0, n_estimators='warn', n_jobs=None,\n",
       "            oob_score=False, random_state=None, verbose=0,\n",
       "            warm_start=False),\n",
       "       fit_params=None, iid='warn', n_jobs=1,\n",
       "       param_grid={'bootstrap': [True], 'criterion': ['gini', 'entropy'], 'max_features': ['auto', 'sqrt', 'log2'], 'n_estimators': [100]},\n",
       "       pre_dispatch='2*n_jobs', refit=True, return_train_score='warn',\n",
       "       scoring=None, verbose=0)"
      ]
     },
     "execution_count": 87,
     "metadata": {},
     "output_type": "execute_result"
    }
   ],
   "source": [
    "gridsearch.fit(features_train, labels_train)"
   ]
  },
  {
   "cell_type": "markdown",
   "metadata": {},
   "source": [
    "Tras la conclusión del **GridSearchCV** se pueden observar tanto los mejores híper-parámetros como los resultados de la validación cruzada. En este caso, tan solo haremos uso de los mejores híper-parámetros con el fin de utilizarlos a la hora de crear el modelo de clasificación de tweets en sentimientos."
   ]
  },
  {
   "cell_type": "code",
   "execution_count": 88,
   "metadata": {},
   "outputs": [
    {
     "data": {
      "text/plain": [
       "{'bootstrap': True,\n",
       " 'criterion': 'gini',\n",
       " 'max_features': 'log2',\n",
       " 'n_estimators': 100}"
      ]
     },
     "execution_count": 88,
     "metadata": {},
     "output_type": "execute_result"
    }
   ],
   "source": [
    "gridsearch.best_params_"
   ]
  },
  {
   "cell_type": "code",
   "execution_count": 89,
   "metadata": {},
   "outputs": [
    {
     "data": {
      "text/plain": [
       "array([0.65432099, 0.65604364, 0.66006316, 0.65920184, 0.65719208,\n",
       "       0.65661786])"
      ]
     },
     "execution_count": 89,
     "metadata": {},
     "output_type": "execute_result"
    }
   ],
   "source": [
    "gridsearch.cv_results_['mean_test_score']"
   ]
  },
  {
   "cell_type": "markdown",
   "metadata": {},
   "source": [
    "---\n",
    "### Persistencia del Modelo"
   ]
  },
  {
   "cell_type": "markdown",
   "metadata": {},
   "source": [
    "Ahora, dado que ya se conocen los mejores híper-parámetros para el algoritmo **RandomForestClassifier** para la clasificación de texto en sentimientos, se procede a la creación del modelo."
   ]
  },
  {
   "cell_type": "code",
   "execution_count": 98,
   "metadata": {},
   "outputs": [],
   "source": [
    "random_forest = RandomForestClassifier(bootstrap=True,\n",
    "                                       criterion='gini',\n",
    "                                       max_features='log2',\n",
    "                                       n_estimators=100)"
   ]
  },
  {
   "cell_type": "code",
   "execution_count": 99,
   "metadata": {},
   "outputs": [
    {
     "data": {
      "text/plain": [
       "RandomForestClassifier(bootstrap=True, class_weight=None, criterion='gini',\n",
       "            max_depth=None, max_features='log2', max_leaf_nodes=None,\n",
       "            min_impurity_decrease=0.0, min_impurity_split=None,\n",
       "            min_samples_leaf=1, min_samples_split=2,\n",
       "            min_weight_fraction_leaf=0.0, n_estimators=100, n_jobs=None,\n",
       "            oob_score=False, random_state=None, verbose=0,\n",
       "            warm_start=False)"
      ]
     },
     "execution_count": 99,
     "metadata": {},
     "output_type": "execute_result"
    }
   ],
   "source": [
    "random_forest.fit(features_train, labels_train)"
   ]
  },
  {
   "cell_type": "code",
   "execution_count": 100,
   "metadata": {},
   "outputs": [],
   "source": [
    "prediction = random_forest.predict(features_test)"
   ]
  },
  {
   "cell_type": "code",
   "execution_count": 101,
   "metadata": {},
   "outputs": [
    {
     "data": {
      "text/plain": [
       "0.6382428940568475"
      ]
     },
     "execution_count": 101,
     "metadata": {},
     "output_type": "execute_result"
    }
   ],
   "source": [
    "random_forest.score(features_test, labels_test)"
   ]
  },
  {
   "cell_type": "markdown",
   "metadata": {},
   "source": [
    "Con el fin de mantener la persistencia del modelo, se guardará dicho modelo en un fichero [pickle](https://docs.python.org/3/library/pickle.html), que permite la persistencia de objetos de Python en ficheros de texto, de forma que de igual modo que permite la escritura, permite la lectura posterior del mismo con el fin de evitar tener que entrenar el modelo una y otra vez."
   ]
  },
  {
   "cell_type": "code",
   "execution_count": 108,
   "metadata": {},
   "outputs": [],
   "source": [
    "import pickle"
   ]
  },
  {
   "cell_type": "code",
   "execution_count": 105,
   "metadata": {},
   "outputs": [],
   "source": [
    "with open('resources/sentiment_model.pickle', 'wb') as file_:\n",
    "    pickle.dump(random_forest, file_)"
   ]
  },
  {
   "cell_type": "markdown",
   "metadata": {},
   "source": [
    "---\n",
    "## Licencia"
   ]
  },
  {
   "cell_type": "markdown",
   "metadata": {},
   "source": [
    "MIT License\n",
    "\n",
    "Copyright (c) 2019 Álvaro Bartolomé del Canto\n",
    "\n",
    "Permission is hereby granted, free of charge, to any person obtaining a copy\n",
    "of this software and associated documentation files (the \"Software\"), to deal\n",
    "in the Software without restriction, including without limitation the rights\n",
    "to use, copy, modify, merge, publish, distribute, sublicense, and/or sell\n",
    "copies of the Software, and to permit persons to whom the Software is\n",
    "furnished to do so, subject to the following conditions:\n",
    "\n",
    "The above copyright notice and this permission notice shall be included in all\n",
    "copies or substantial portions of the Software.\n",
    "\n",
    "THE SOFTWARE IS PROVIDED \"AS IS\", WITHOUT WARRANTY OF ANY KIND, EXPRESS OR\n",
    "IMPLIED, INCLUDING BUT NOT LIMITED TO THE WARRANTIES OF MERCHANTABILITY,\n",
    "FITNESS FOR A PARTICULAR PURPOSE AND NONINFRINGEMENT. IN NO EVENT SHALL THE\n",
    "AUTHORS OR COPYRIGHT HOLDERS BE LIABLE FOR ANY CLAIM, DAMAGES OR OTHER\n",
    "LIABILITY, WHETHER IN AN ACTION OF CONTRACT, TORT OR OTHERWISE, ARISING FROM,\n",
    "OUT OF OR IN CONNECTION WITH THE SOFTWARE OR THE USE OR OTHER DEALINGS IN THE\n",
    "SOFTWARE."
   ]
  },
  {
   "cell_type": "markdown",
   "metadata": {},
   "source": [
    "---\n",
    "## Autor"
   ]
  },
  {
   "cell_type": "markdown",
   "metadata": {},
   "source": [
    "**Álvaro Bartolomé del Canto, 2018-2019**"
   ]
  }
 ],
 "metadata": {
  "kernelspec": {
   "display_name": "Python 3",
   "language": "python",
   "name": "python3"
  },
  "language_info": {
   "codemirror_mode": {
    "name": "ipython",
    "version": 3
   },
   "file_extension": ".py",
   "mimetype": "text/x-python",
   "name": "python",
   "nbconvert_exporter": "python",
   "pygments_lexer": "ipython3",
   "version": "3.7.3"
  }
 },
 "nbformat": 4,
 "nbformat_minor": 2
}
