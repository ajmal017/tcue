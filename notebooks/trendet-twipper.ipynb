{
 "cells": [
  {
   "cell_type": "markdown",
   "metadata": {},
   "source": [
    "# Identificación de tendencias con trendet y comparación de sentimiento con el comportamiento del mercado con datos de investpy y twipper"
   ]
  },
  {
   "cell_type": "markdown",
   "metadata": {},
   "source": [
    "**por Álvaro Bartolomé del Canto @ alvarob96 en GitHub**"
   ]
  },
  {
   "cell_type": "markdown",
   "metadata": {},
   "source": [
    "---\n",
    "## Introducción"
   ]
  },
  {
   "cell_type": "markdown",
   "metadata": {},
   "source": [
    "En este informe se presenta el resultado del estudio realizado combinando los paquetes de Python [trendet](https://github.com/alvarob96/trendet) y [twipper](https://github.com/alvarob96/twipper), para la detección de tendencias en series temporales de datos históricos de una acción y para la recuperación de tweets a través de la API de Twitter desde Python, respectivamente."
   ]
  },
  {
   "cell_type": "markdown",
   "metadata": {},
   "source": [
    "---\n",
    "## Caso de Estudio - Endesa"
   ]
  },
  {
   "cell_type": "markdown",
   "metadata": {},
   "source": [
    "Se utilizará **trendet** para identificar tendencias en la serie temporal del último año de una empresa, en este caso se propone el caso de estudio con **Endesa**, que es una empresa española que opera en los sectores eléctrico y gasístico. Una vez identificadas las tendencias a lo largo de los datos históricos de cierre del último año de ENDESA, se procede a la recuperación de los tweets publicados desde España y en español entre las fechas entre las que se comprende dicha tendencia, a través de la búsqueda en la API Premium de Twitter, a través de **twipper**."
   ]
  },
  {
   "cell_type": "code",
   "execution_count": 1,
   "metadata": {},
   "outputs": [],
   "source": [
    "import trendet"
   ]
  },
  {
   "cell_type": "code",
   "execution_count": 2,
   "metadata": {},
   "outputs": [
    {
     "data": {
      "text/plain": [
       "('Alvaro Bartolome @ alvarob96 on GitHub', '0.5')"
      ]
     },
     "execution_count": 2,
     "metadata": {},
     "output_type": "execute_result"
    }
   ],
   "source": [
    "(trendet.__author__, trendet.__version__)"
   ]
  },
  {
   "cell_type": "code",
   "execution_count": 3,
   "metadata": {},
   "outputs": [],
   "source": [
    "import twipper"
   ]
  },
  {
   "cell_type": "code",
   "execution_count": 4,
   "metadata": {},
   "outputs": [
    {
     "data": {
      "text/plain": [
       "('Alvaro Bartolome @ alvarob96 on GitHub', '0.1.3')"
      ]
     },
     "execution_count": 4,
     "metadata": {},
     "output_type": "execute_result"
    }
   ],
   "source": [
    "(twipper.__author__, twipper.__version__)"
   ]
  },
  {
   "cell_type": "markdown",
   "metadata": {},
   "source": [
    "Se utilizará la función `identify_all_trends` de **trendet** para identificar todas las tendencias que se dan a lo largo de los datos históricos de **Endesa** en el período comprendido entre 2018 y 2019, siempre que la tendencia dure más de 5 días, es decir, una semana de mercado ya que solo son hábiles los días de lunes a viernes. "
   ]
  },
  {
   "cell_type": "code",
   "execution_count": 72,
   "metadata": {},
   "outputs": [],
   "source": [
    "df = trendet.identify_all_trends(equity='bankia',\n",
    "                                 country='spain',\n",
    "                                 from_date='01/01/2018',\n",
    "                                 to_date='01/01/2019',\n",
    "                                 window_size=5)"
   ]
  },
  {
   "cell_type": "code",
   "execution_count": 73,
   "metadata": {},
   "outputs": [
    {
     "data": {
      "text/html": [
       "<div>\n",
       "<style scoped>\n",
       "    .dataframe tbody tr th:only-of-type {\n",
       "        vertical-align: middle;\n",
       "    }\n",
       "\n",
       "    .dataframe tbody tr th {\n",
       "        vertical-align: top;\n",
       "    }\n",
       "\n",
       "    .dataframe thead th {\n",
       "        text-align: right;\n",
       "    }\n",
       "</style>\n",
       "<table border=\"1\" class=\"dataframe\">\n",
       "  <thead>\n",
       "    <tr style=\"text-align: right;\">\n",
       "      <th></th>\n",
       "      <th>Open</th>\n",
       "      <th>High</th>\n",
       "      <th>Low</th>\n",
       "      <th>Close</th>\n",
       "      <th>Volume</th>\n",
       "      <th>Currency</th>\n",
       "      <th>Up Trend</th>\n",
       "      <th>Down Trend</th>\n",
       "    </tr>\n",
       "    <tr>\n",
       "      <th>Date</th>\n",
       "      <th></th>\n",
       "      <th></th>\n",
       "      <th></th>\n",
       "      <th></th>\n",
       "      <th></th>\n",
       "      <th></th>\n",
       "      <th></th>\n",
       "      <th></th>\n",
       "    </tr>\n",
       "  </thead>\n",
       "  <tbody>\n",
       "    <tr>\n",
       "      <td>2018-01-02</td>\n",
       "      <td>4.000</td>\n",
       "      <td>4.053</td>\n",
       "      <td>3.990</td>\n",
       "      <td>4.041</td>\n",
       "      <td>3900000</td>\n",
       "      <td>EUR</td>\n",
       "      <td>A</td>\n",
       "      <td>NaN</td>\n",
       "    </tr>\n",
       "    <tr>\n",
       "      <td>2018-01-03</td>\n",
       "      <td>4.057</td>\n",
       "      <td>4.064</td>\n",
       "      <td>4.038</td>\n",
       "      <td>4.051</td>\n",
       "      <td>3020000</td>\n",
       "      <td>EUR</td>\n",
       "      <td>A</td>\n",
       "      <td>NaN</td>\n",
       "    </tr>\n",
       "    <tr>\n",
       "      <td>2018-01-04</td>\n",
       "      <td>4.074</td>\n",
       "      <td>4.133</td>\n",
       "      <td>4.064</td>\n",
       "      <td>4.110</td>\n",
       "      <td>5180000</td>\n",
       "      <td>EUR</td>\n",
       "      <td>A</td>\n",
       "      <td>NaN</td>\n",
       "    </tr>\n",
       "    <tr>\n",
       "      <td>2018-01-05</td>\n",
       "      <td>4.125</td>\n",
       "      <td>4.146</td>\n",
       "      <td>4.122</td>\n",
       "      <td>4.132</td>\n",
       "      <td>4690000</td>\n",
       "      <td>EUR</td>\n",
       "      <td>A</td>\n",
       "      <td>NaN</td>\n",
       "    </tr>\n",
       "    <tr>\n",
       "      <td>2018-01-08</td>\n",
       "      <td>4.145</td>\n",
       "      <td>4.168</td>\n",
       "      <td>4.095</td>\n",
       "      <td>4.104</td>\n",
       "      <td>3350000</td>\n",
       "      <td>EUR</td>\n",
       "      <td>A</td>\n",
       "      <td>NaN</td>\n",
       "    </tr>\n",
       "  </tbody>\n",
       "</table>\n",
       "</div>"
      ],
      "text/plain": [
       "             Open   High    Low  Close   Volume Currency Up Trend Down Trend\n",
       "Date                                                                        \n",
       "2018-01-02  4.000  4.053  3.990  4.041  3900000      EUR        A        NaN\n",
       "2018-01-03  4.057  4.064  4.038  4.051  3020000      EUR        A        NaN\n",
       "2018-01-04  4.074  4.133  4.064  4.110  5180000      EUR        A        NaN\n",
       "2018-01-05  4.125  4.146  4.122  4.132  4690000      EUR        A        NaN\n",
       "2018-01-08  4.145  4.168  4.095  4.104  3350000      EUR        A        NaN"
      ]
     },
     "execution_count": 73,
     "metadata": {},
     "output_type": "execute_result"
    }
   ],
   "source": [
    "df.head()"
   ]
  },
  {
   "cell_type": "markdown",
   "metadata": {},
   "source": [
    "Una vez se han identificado las tendencias y se dispone del `pandas.DataFrame` resultante del cálculo de dichas tendencias, se procede a la identificación de las mismas sobre una gráfica de una serie temporal. De este modo, se podrán visualizar las tendencias identificadas para determinar cual o cuales serán las tendencias a estudiar junto con los datos recuperados de Twitter."
   ]
  },
  {
   "cell_type": "code",
   "execution_count": 74,
   "metadata": {},
   "outputs": [],
   "source": [
    "up_trends = df['Up Trend'].dropna().unique().tolist()"
   ]
  },
  {
   "cell_type": "code",
   "execution_count": 75,
   "metadata": {},
   "outputs": [],
   "source": [
    "down_trends = df['Down Trend'].dropna().unique().tolist()"
   ]
  },
  {
   "cell_type": "code",
   "execution_count": 76,
   "metadata": {},
   "outputs": [],
   "source": [
    "df.reset_index(inplace=True)"
   ]
  },
  {
   "cell_type": "code",
   "execution_count": 77,
   "metadata": {},
   "outputs": [],
   "source": [
    "import matplotlib.pyplot as plt\n",
    "import seaborn as sns\n",
    "sns.set(style='darkgrid')"
   ]
  },
  {
   "cell_type": "markdown",
   "metadata": {},
   "source": [
    "Anotar que para la visualización se hará uso del estilo creado por [@Dih5](https://github.com/Dih5) llamado [paper-themes](https://github.com/Dih5/paper-themes) para la visualización de gráficas con [matplotlib](https://matplotlib.org/), pensado para publicaciones científicas."
   ]
  },
  {
   "cell_type": "code",
   "execution_count": 78,
   "metadata": {},
   "outputs": [
    {
     "data": {
      "image/png": "[encoded data removed]",
      "text/plain": [
       "<Figure size 1440x720 with 1 Axes>"
      ]
     },
     "metadata": {},
     "output_type": "display_data"
    }
   ],
   "source": [
    "with plt.style.context('seaborn'):\n",
    "    plt.figure(figsize=(20, 10))\n",
    "\n",
    "    ax = sns.lineplot(x=df['Date'], y=df['Close'])\n",
    "\n",
    "    labels = df['Up Trend'].dropna().unique().tolist()\n",
    "\n",
    "    for label in labels:\n",
    "        sns.lineplot(x=df[df['Up Trend'] == label]['Date'],\n",
    "                     y=df[df['Up Trend'] == label]['Close'],\n",
    "                     color='green')\n",
    "\n",
    "        ax.axvspan(df[df['Up Trend'] == label]['Date'].iloc[0],\n",
    "                   df[df['Up Trend'] == label]['Date'].iloc[-1],\n",
    "                   alpha=0.2,\n",
    "                   color='green')\n",
    "\n",
    "    labels = df['Down Trend'].dropna().unique().tolist()\n",
    "\n",
    "    for label in labels:\n",
    "        sns.lineplot(x=df[df['Down Trend'] == label]['Date'],\n",
    "                     y=df[df['Down Trend'] == label]['Close'],\n",
    "                     color='red')\n",
    "\n",
    "        ax.axvspan(df[df['Down Trend'] == label]['Date'].iloc[0],\n",
    "                   df[df['Down Trend'] == label]['Date'].iloc[-1],\n",
    "                   alpha=0.2,\n",
    "                   color='red')\n",
    "\n",
    "    plt.show()"
   ]
  },
  {
   "cell_type": "markdown",
   "metadata": {},
   "source": [
    "Tras mostrar las tendencias en forma de gráfica e identificar que las tendencias predominantes son las bajistas, se procederá a la identificación de los intervalos de cada una de ellas con el fin de ver cúal ha tenido más impacto sobre el valor en bolsa de Endesa, para así poder llevar dicha franja temporal a estudio con los datos de Twitter de Endesa."
   ]
  },
  {
   "cell_type": "code",
   "execution_count": 13,
   "metadata": {},
   "outputs": [
    {
     "name": "stdout",
     "output_type": "stream",
     "text": [
      "201802010000 201802090000\n",
      "17.97 16.6\n",
      "201803190000 201803230000\n",
      "17.39 17.115\n",
      "201805230000 201805310000\n",
      "19.95 18.845\n",
      "201807180000 201807240000\n",
      "19.87 19.37\n"
     ]
    }
   ],
   "source": [
    "for down_trend in down_trends:\n",
    "    print(df[df['Down Trend'] == down_trend]['Date'].tolist()[0].strftime('%Y%m%d%H%S'),\n",
    "          df[df['Down Trend'] == down_trend]['Date'].tolist()[-1].strftime('%Y%m%d%H%S'))\n",
    "    print(df[df['Down Trend'] == down_trend]['Close'].tolist()[0],\n",
    "          df[df['Down Trend'] == down_trend]['Close'].tolist()[-1])"
   ]
  },
  {
   "cell_type": "markdown",
   "metadata": {},
   "source": [
    "La tendencia a analizar es la que corresponde al periodo comprendido entre: **'201802010000'** y **'201802090000'**. En este caso es una tendencia bajista, en la que el mercado cambia de manera abrupta de una forma muy negativa, bajando su valor en bolsa de '17.97' a '16.6', en un periodo de tan solo 7 días.\n",
    "\n",
    "De este modo, ahora a partir de la información de Twitter extraida a través de [twipper](https://github.com/alvarob96/twipper/) se pretende analizar el impacto de la opinión volcada en Twitter por los usuarios analizando su sentimiento, con el fin de determinar si afecta de un modo negativo al comportamiento del mercado y, así de algún modo, condiciona el mismo. Lo cual implica la utilización del modelo, creado previamente, para el análisis de sentimientos en positivo, negativo o neutral de una colección de tweets de entrada dada."
   ]
  },
  {
   "cell_type": "markdown",
   "metadata": {},
   "source": [
    "Destacar que para la recuperación de tweets históricos en una franja temporal determinada se requiere el uso de la API Premium de Twitter, ya que la versión gratuita tan solo da acceso a datos históricos de los últimos 7 días, con lo que no es viable el uso de la versión gratuita de la misma."
   ]
  },
  {
   "cell_type": "code",
   "execution_count": 14,
   "metadata": {},
   "outputs": [],
   "source": [
    "cred = twipper.Twipper(consumer_key='Si1dJus1cp3YefEzGsnbLh37u',\n",
    "                       consumer_secret='vDoaKZ49J2IfCO9BeM8hWONPd0AF00wxfQ16ilhKlEKz66pqZv',\n",
    "                       access_token='894988499526590464-axe4Lj1pATPMLpIrxpAdw38HnOodYaf',\n",
    "                       access_token_secret='4aNUPWEdIoSz0E2mZe9ywYxyDL8orWWufLgEvaOrhHfWt')"
   ]
  },
  {
   "cell_type": "code",
   "execution_count": 15,
   "metadata": {},
   "outputs": [],
   "source": [
    "cred.plan = 'fullarchive'\n",
    "cred.label = 'research'"
   ]
  },
  {
   "cell_type": "markdown",
   "metadata": {},
   "source": [
    "Se hará uso también de una funcionalidad adicional implementada por **twipper**, que consiste en el formateo de queries del formato especificado y estandarizado por **twipper**, al formato de Twitter, que es distinto para las búsquedas batch o en streaming. Por tanto, al no tener un formato unificado, hace que la utilidad implementada por **twipper** sea de gran utilidad."
   ]
  },
  {
   "cell_type": "code",
   "execution_count": 16,
   "metadata": {},
   "outputs": [],
   "source": [
    "from twipper.utils import standard_query"
   ]
  },
  {
   "cell_type": "code",
   "execution_count": 17,
   "metadata": {},
   "outputs": [],
   "source": [
    "query = standard_query('endesa OR endesa AND electricidad OR endesa AND gas')"
   ]
  },
  {
   "cell_type": "code",
   "execution_count": 20,
   "metadata": {},
   "outputs": [
    {
     "data": {
      "text/plain": [
       "'endesa OR endesa electricidad OR endesa gas'"
      ]
     },
     "execution_count": 20,
     "metadata": {},
     "output_type": "execute_result"
    }
   ],
   "source": [
    "query"
   ]
  },
  {
   "cell_type": "code",
   "execution_count": 21,
   "metadata": {},
   "outputs": [],
   "source": [
    "from twipper.premium import search_tweets"
   ]
  },
  {
   "cell_type": "code",
   "execution_count": 22,
   "metadata": {},
   "outputs": [],
   "source": [
    "tweets = search_tweets(access=cred,\n",
    "                       query=query,\n",
    "                       page_count=2,\n",
    "                       from_date='201802010000',\n",
    "                       to_date='201802090000',\n",
    "                       language='es',\n",
    "                       filter_retweets=False)"
   ]
  },
  {
   "cell_type": "code",
   "execution_count": 23,
   "metadata": {},
   "outputs": [
    {
     "data": {
      "text/plain": [
       "200"
      ]
     },
     "execution_count": 23,
     "metadata": {},
     "output_type": "execute_result"
    }
   ],
   "source": [
    "len(tweets)"
   ]
  },
  {
   "cell_type": "code",
   "execution_count": 33,
   "metadata": {},
   "outputs": [],
   "source": [
    "unseen_tweets = list()"
   ]
  },
  {
   "cell_type": "code",
   "execution_count": 34,
   "metadata": {},
   "outputs": [],
   "source": [
    "for tweet in tweets:\n",
    "    if 'retweeted_status' in tweet:\n",
    "        continue\n",
    "    elif 'extended_tweet' in tweet:\n",
    "        unseen_tweets.append(tweet['extended_tweet']['full_text'])\n",
    "    else:\n",
    "        unseen_tweets.append(tweet['text'])"
   ]
  },
  {
   "cell_type": "code",
   "execution_count": 35,
   "metadata": {},
   "outputs": [
    {
     "data": {
      "text/plain": [
       "53"
      ]
     },
     "execution_count": 35,
     "metadata": {},
     "output_type": "execute_result"
    }
   ],
   "source": [
    "len(unseen_tweets)"
   ]
  },
  {
   "cell_type": "code",
   "execution_count": 45,
   "metadata": {},
   "outputs": [
    {
     "data": {
      "text/plain": [
       "['https://t.co/6knegziosA\\n\\nDarse de baja de Endesa',\n",
       " 'Endesa y Gas Natural Fenosa realizan la primera transacción de energía con tecnología… https://t.co/fJnErfbt7K',\n",
       " 'Uno de los retos de la #empresa saludable según @miriamfillesa @endesa #JCorrSalud https://t.co/OhMJ3Uus4v',\n",
       " 'Anna Montañana hace historia al convertirse en entrenadora ayudante de un equipo de la ACB https://t.co/gR0xjlGINW vía @publico_es',\n",
       " 'Anna Montañana, al Fuenla: primera mujer en un cuerpo técnico ACB https://t.co/1ar8RZHLZu']"
      ]
     },
     "execution_count": 45,
     "metadata": {},
     "output_type": "execute_result"
    }
   ],
   "source": [
    "unseen_tweets[:5]"
   ]
  },
  {
   "cell_type": "markdown",
   "metadata": {},
   "source": [
    "Ahora, dado que ya se ha explicado en el informe de [twipper-sentiment](https://github.com/alvarob96/tcue/blob/master/docs/tcue_sentiment.pdf), se procederá a la implementación del sistema de preparación de los datos de cara a aplicar el modelo creado en dicho informe. Por tanto, antes de proceder con este informe, se recomienda que se consulte antes el anterior informe."
   ]
  },
  {
   "cell_type": "code",
   "execution_count": 37,
   "metadata": {},
   "outputs": [],
   "source": [
    "def get_stopwords():\n",
    "    stopwords_list = list()\n",
    "\n",
    "    with open('resources/stopwords-es.txt', 'rt', encoding='utf-8') as stopwords:\n",
    "        for stopword in stopwords.readlines():\n",
    "            stopwords_list.append(stopword.strip())\n",
    "\n",
    "        stopwords.close()\n",
    "        \n",
    "    return stopwords_list"
   ]
  },
  {
   "cell_type": "code",
   "execution_count": 38,
   "metadata": {},
   "outputs": [],
   "source": [
    "import re"
   ]
  },
  {
   "cell_type": "code",
   "execution_count": 39,
   "metadata": {},
   "outputs": [],
   "source": [
    "def tokenizer(tweet, stopwords_list):\n",
    "    url_pattern = re.compile('http[s]?://(?:[a-zA-Z]|[0-9]|[$-_@.&+]|[!*\\(\\),]|(?:%[0-9a-fA-F][0-9a-fA-F]))+')\n",
    "    html_pattern = re.compile('<.*?>|&([a-z0-9]+|#[0-9]{1,6}|#x[0-9a-f]{1,6});')\n",
    "    spaces_pattern = re.compile('[ ]{2,}')\n",
    "    \n",
    "    result = url_pattern.sub('', tweet)\n",
    "    result = html_pattern.sub('', result)\n",
    "    result = spaces_pattern.sub('', result)\n",
    "    result = re.findall('\\w+', result)\n",
    "    \n",
    "    result = ' '.join([word.lower() for word in result if word.lower() not in stopwords_list])\n",
    "    \n",
    "    return result"
   ]
  },
  {
   "cell_type": "code",
   "execution_count": 41,
   "metadata": {},
   "outputs": [],
   "source": [
    "stopwords = get_stopwords()"
   ]
  },
  {
   "cell_type": "code",
   "execution_count": 42,
   "metadata": {},
   "outputs": [],
   "source": [
    "tokenized_tweets = [tokenizer(unseen_tweet, stopwords) for unseen_tweet in unseen_tweets]"
   ]
  },
  {
   "cell_type": "code",
   "execution_count": 44,
   "metadata": {},
   "outputs": [
    {
     "data": {
      "text/plain": [
       "['darse baja endesa',\n",
       " 'endesa gas natural fenosa realizan transacción energía tecnología',\n",
       " 'retos empresa saludable miriamfillesa endesa jcorrsalud',\n",
       " 'anna montañana historia convertirse entrenadora ayudante equipo acbvía publico_es',\n",
       " 'anna montañana fuenla mujer cuerpo técnico acb']"
      ]
     },
     "execution_count": 44,
     "metadata": {},
     "output_type": "execute_result"
    }
   ],
   "source": [
    "tokenized_tweets[:5]"
   ]
  },
  {
   "cell_type": "markdown",
   "metadata": {},
   "source": [
    "Para proceder con la clasificación de tweets en sentimientos, en este caso, para tweets nunca vistos por el modelo, se requerirá de la carga tanto del vectorizador **TfidfVectorizer**, como del propio modelo de análisis de sentimientos **RandomForestClassifier**, es decir, de `resources/tfidf.pickle` y de `resources/sentiment_model.pickle`, respectivamente."
   ]
  },
  {
   "cell_type": "code",
   "execution_count": 50,
   "metadata": {},
   "outputs": [],
   "source": [
    "import pickle"
   ]
  },
  {
   "cell_type": "code",
   "execution_count": 51,
   "metadata": {},
   "outputs": [],
   "source": [
    "with open('resources/tfidf.pickle', 'rb') as file_:\n",
    "    tfidf = pickle.load(file_)"
   ]
  },
  {
   "cell_type": "code",
   "execution_count": 52,
   "metadata": {},
   "outputs": [],
   "source": [
    "with open('resources/sentiment_model.pickle', 'rb') as file_:\n",
    "    sentiment_model = pickle.load(file_)"
   ]
  },
  {
   "cell_type": "markdown",
   "metadata": {},
   "source": [
    "Una vez cargados, se vectorizarán los tweets tokenizados ya que es la entrada requerida por el modelo, que este a su vez clasificará cada uno de los tweets introducidos en una de las categorías previamente mapeadas de la forma:"
   ]
  },
  {
   "cell_type": "code",
   "execution_count": 66,
   "metadata": {},
   "outputs": [],
   "source": [
    "sentiment_codes = {\n",
    "    -1: 'negative',\n",
    "    0: 'neutral',\n",
    "    1: 'positive',\n",
    "}"
   ]
  },
  {
   "cell_type": "code",
   "execution_count": 54,
   "metadata": {},
   "outputs": [],
   "source": [
    "unseen_features = tfidf.transform(tokenized_tweets).toarray()"
   ]
  },
  {
   "cell_type": "code",
   "execution_count": 56,
   "metadata": {},
   "outputs": [],
   "source": [
    "unseen_prediction = sentiment_model.predict(unseen_features)"
   ]
  },
  {
   "cell_type": "markdown",
   "metadata": {},
   "source": [
    "Ahora se procede a la creación de un `pandas.DataFrame` cuyo objetivo es mostrar de una forma más clara el resultado del análisis de sentimiento realizado sobre los tweets publicados entre 01/02/2018 y 09/02/2018."
   ]
  },
  {
   "cell_type": "code",
   "execution_count": 57,
   "metadata": {},
   "outputs": [],
   "source": [
    "import pandas as pd"
   ]
  },
  {
   "cell_type": "code",
   "execution_count": 62,
   "metadata": {},
   "outputs": [],
   "source": [
    "df = pd.DataFrame({\n",
    "    'tweets': unseen_tweets,\n",
    "    'tokenized_tweets': tokenized_tweets,\n",
    "    'sentiment': unseen_prediction\n",
    "})"
   ]
  },
  {
   "cell_type": "code",
   "execution_count": 64,
   "metadata": {
    "scrolled": true
   },
   "outputs": [
    {
     "data": {
      "text/html": [
       "<div>\n",
       "<style scoped>\n",
       "    .dataframe tbody tr th:only-of-type {\n",
       "        vertical-align: middle;\n",
       "    }\n",
       "\n",
       "    .dataframe tbody tr th {\n",
       "        vertical-align: top;\n",
       "    }\n",
       "\n",
       "    .dataframe thead th {\n",
       "        text-align: right;\n",
       "    }\n",
       "</style>\n",
       "<table border=\"1\" class=\"dataframe\">\n",
       "  <thead>\n",
       "    <tr style=\"text-align: right;\">\n",
       "      <th></th>\n",
       "      <th>tweets</th>\n",
       "      <th>tokenized_tweets</th>\n",
       "      <th>sentiment</th>\n",
       "    </tr>\n",
       "  </thead>\n",
       "  <tbody>\n",
       "    <tr>\n",
       "      <td>0</td>\n",
       "      <td>https://t.co/6knegziosA\\n\\nDarse de baja de En...</td>\n",
       "      <td>darse baja endesa</td>\n",
       "      <td>0</td>\n",
       "    </tr>\n",
       "    <tr>\n",
       "      <td>1</td>\n",
       "      <td>Endesa y Gas Natural Fenosa realizan la primer...</td>\n",
       "      <td>endesa gas natural fenosa realizan transacción...</td>\n",
       "      <td>0</td>\n",
       "    </tr>\n",
       "    <tr>\n",
       "      <td>2</td>\n",
       "      <td>Uno de los retos de la #empresa saludable segú...</td>\n",
       "      <td>retos empresa saludable miriamfillesa endesa j...</td>\n",
       "      <td>0</td>\n",
       "    </tr>\n",
       "    <tr>\n",
       "      <td>3</td>\n",
       "      <td>Anna Montañana hace historia al convertirse en...</td>\n",
       "      <td>anna montañana historia convertirse entrenador...</td>\n",
       "      <td>0</td>\n",
       "    </tr>\n",
       "    <tr>\n",
       "      <td>4</td>\n",
       "      <td>Anna Montañana, al Fuenla: primera mujer en un...</td>\n",
       "      <td>anna montañana fuenla mujer cuerpo técnico acb</td>\n",
       "      <td>0</td>\n",
       "    </tr>\n",
       "  </tbody>\n",
       "</table>\n",
       "</div>"
      ],
      "text/plain": [
       "                                              tweets  \\\n",
       "0  https://t.co/6knegziosA\\n\\nDarse de baja de En...   \n",
       "1  Endesa y Gas Natural Fenosa realizan la primer...   \n",
       "2  Uno de los retos de la #empresa saludable segú...   \n",
       "3  Anna Montañana hace historia al convertirse en...   \n",
       "4  Anna Montañana, al Fuenla: primera mujer en un...   \n",
       "\n",
       "                                    tokenized_tweets  sentiment  \n",
       "0                                  darse baja endesa          0  \n",
       "1  endesa gas natural fenosa realizan transacción...          0  \n",
       "2  retos empresa saludable miriamfillesa endesa j...          0  \n",
       "3  anna montañana historia convertirse entrenador...          0  \n",
       "4     anna montañana fuenla mujer cuerpo técnico acb          0  "
      ]
     },
     "execution_count": 64,
     "metadata": {},
     "output_type": "execute_result"
    }
   ],
   "source": [
    "df.head()"
   ]
  },
  {
   "cell_type": "code",
   "execution_count": 67,
   "metadata": {},
   "outputs": [],
   "source": [
    "df = df.replace({'sentiment': sentiment_codes})"
   ]
  },
  {
   "cell_type": "code",
   "execution_count": 68,
   "metadata": {},
   "outputs": [
    {
     "data": {
      "text/html": [
       "<div>\n",
       "<style scoped>\n",
       "    .dataframe tbody tr th:only-of-type {\n",
       "        vertical-align: middle;\n",
       "    }\n",
       "\n",
       "    .dataframe tbody tr th {\n",
       "        vertical-align: top;\n",
       "    }\n",
       "\n",
       "    .dataframe thead th {\n",
       "        text-align: right;\n",
       "    }\n",
       "</style>\n",
       "<table border=\"1\" class=\"dataframe\">\n",
       "  <thead>\n",
       "    <tr style=\"text-align: right;\">\n",
       "      <th></th>\n",
       "      <th>tweets</th>\n",
       "      <th>tokenized_tweets</th>\n",
       "      <th>sentiment</th>\n",
       "    </tr>\n",
       "  </thead>\n",
       "  <tbody>\n",
       "    <tr>\n",
       "      <td>0</td>\n",
       "      <td>https://t.co/6knegziosA\\n\\nDarse de baja de En...</td>\n",
       "      <td>darse baja endesa</td>\n",
       "      <td>neutral</td>\n",
       "    </tr>\n",
       "    <tr>\n",
       "      <td>1</td>\n",
       "      <td>Endesa y Gas Natural Fenosa realizan la primer...</td>\n",
       "      <td>endesa gas natural fenosa realizan transacción...</td>\n",
       "      <td>neutral</td>\n",
       "    </tr>\n",
       "    <tr>\n",
       "      <td>2</td>\n",
       "      <td>Uno de los retos de la #empresa saludable segú...</td>\n",
       "      <td>retos empresa saludable miriamfillesa endesa j...</td>\n",
       "      <td>neutral</td>\n",
       "    </tr>\n",
       "    <tr>\n",
       "      <td>3</td>\n",
       "      <td>Anna Montañana hace historia al convertirse en...</td>\n",
       "      <td>anna montañana historia convertirse entrenador...</td>\n",
       "      <td>neutral</td>\n",
       "    </tr>\n",
       "    <tr>\n",
       "      <td>4</td>\n",
       "      <td>Anna Montañana, al Fuenla: primera mujer en un...</td>\n",
       "      <td>anna montañana fuenla mujer cuerpo técnico acb</td>\n",
       "      <td>neutral</td>\n",
       "    </tr>\n",
       "  </tbody>\n",
       "</table>\n",
       "</div>"
      ],
      "text/plain": [
       "                                              tweets  \\\n",
       "0  https://t.co/6knegziosA\\n\\nDarse de baja de En...   \n",
       "1  Endesa y Gas Natural Fenosa realizan la primer...   \n",
       "2  Uno de los retos de la #empresa saludable segú...   \n",
       "3  Anna Montañana hace historia al convertirse en...   \n",
       "4  Anna Montañana, al Fuenla: primera mujer en un...   \n",
       "\n",
       "                                    tokenized_tweets sentiment  \n",
       "0                                  darse baja endesa   neutral  \n",
       "1  endesa gas natural fenosa realizan transacción...   neutral  \n",
       "2  retos empresa saludable miriamfillesa endesa j...   neutral  \n",
       "3  anna montañana historia convertirse entrenador...   neutral  \n",
       "4     anna montañana fuenla mujer cuerpo técnico acb   neutral  "
      ]
     },
     "execution_count": 68,
     "metadata": {},
     "output_type": "execute_result"
    }
   ],
   "source": [
    "df.head()"
   ]
  },
  {
   "cell_type": "markdown",
   "metadata": {},
   "source": [
    "Dado que como se ha explicado previamente el dataset de tweets clasificados de forma manual no es aún del todo completo debido a la gran cantidad de tweets neutrales que hay en Twitter, se determina que para poder establecer la correlación o no entre la tendencia bajista del mercado y el análisis de sentimiento de Twitter, se eliminarán o no se tendrán en cuenta los tweets neutrales."
   ]
  },
  {
   "cell_type": "code",
   "execution_count": 69,
   "metadata": {},
   "outputs": [],
   "source": [
    "df = df.drop(df[df['sentiment'] == 'neutral'].index)"
   ]
  },
  {
   "cell_type": "code",
   "execution_count": 71,
   "metadata": {},
   "outputs": [
    {
     "data": {
      "text/html": [
       "<div>\n",
       "<style scoped>\n",
       "    .dataframe tbody tr th:only-of-type {\n",
       "        vertical-align: middle;\n",
       "    }\n",
       "\n",
       "    .dataframe tbody tr th {\n",
       "        vertical-align: top;\n",
       "    }\n",
       "\n",
       "    .dataframe thead th {\n",
       "        text-align: right;\n",
       "    }\n",
       "</style>\n",
       "<table border=\"1\" class=\"dataframe\">\n",
       "  <thead>\n",
       "    <tr style=\"text-align: right;\">\n",
       "      <th></th>\n",
       "      <th>tweets</th>\n",
       "      <th>tokenized_tweets</th>\n",
       "      <th>sentiment</th>\n",
       "    </tr>\n",
       "  </thead>\n",
       "  <tbody>\n",
       "    <tr>\n",
       "      <td>10</td>\n",
       "      <td>@ETSIngenieria @Endesa @unisevilla @CienciaUS ...</td>\n",
       "      <td>etsingenieria endesa unisevilla cienciaus cons...</td>\n",
       "      <td>positive</td>\n",
       "    </tr>\n",
       "    <tr>\n",
       "      <td>17</td>\n",
       "      <td>Las cosillas que me encuentro trabajando en En...</td>\n",
       "      <td>cosillas encuentro trabajando endesa</td>\n",
       "      <td>positive</td>\n",
       "    </tr>\n",
       "    <tr>\n",
       "      <td>19</td>\n",
       "      <td>🏀♀️Felicitats a Anna Montañana, primera dona a...</td>\n",
       "      <td>felicitats anna montañana dona formar part equ...</td>\n",
       "      <td>positive</td>\n",
       "    </tr>\n",
       "    <tr>\n",
       "      <td>20</td>\n",
       "      <td>@ASAJASEVILLA @fibesevilla @PhilHoganEU @mapam...</td>\n",
       "      <td>asajasevilla fibesevilla philhoganeu mapamagob...</td>\n",
       "      <td>positive</td>\n",
       "    </tr>\n",
       "    <tr>\n",
       "      <td>21</td>\n",
       "      <td>Gracias a @Endesa y sus averías nocturnas, est...</td>\n",
       "      <td>gracias endesa averías nocturnas semana ido ca...</td>\n",
       "      <td>positive</td>\n",
       "    </tr>\n",
       "    <tr>\n",
       "      <td>44</td>\n",
       "      <td>Enhorabuena @AnnaMontanana Te lo mereces. #Gra...</td>\n",
       "      <td>enhorabuena annamontanana mereces granentrenad...</td>\n",
       "      <td>positive</td>\n",
       "    </tr>\n",
       "    <tr>\n",
       "      <td>51</td>\n",
       "      <td>SE ACERCA EL REGRESO DEL \"TITÁN\"\\n\\nYa habría ...</td>\n",
       "      <td>acerca regreso titán fecha gustavo ayón vuelva...</td>\n",
       "      <td>negative</td>\n",
       "    </tr>\n",
       "  </tbody>\n",
       "</table>\n",
       "</div>"
      ],
      "text/plain": [
       "                                               tweets  \\\n",
       "10  @ETSIngenieria @Endesa @unisevilla @CienciaUS ...   \n",
       "17  Las cosillas que me encuentro trabajando en En...   \n",
       "19  🏀♀️Felicitats a Anna Montañana, primera dona a...   \n",
       "20  @ASAJASEVILLA @fibesevilla @PhilHoganEU @mapam...   \n",
       "21  Gracias a @Endesa y sus averías nocturnas, est...   \n",
       "44  Enhorabuena @AnnaMontanana Te lo mereces. #Gra...   \n",
       "51  SE ACERCA EL REGRESO DEL \"TITÁN\"\\n\\nYa habría ...   \n",
       "\n",
       "                                     tokenized_tweets sentiment  \n",
       "10  etsingenieria endesa unisevilla cienciaus cons...  positive  \n",
       "17               cosillas encuentro trabajando endesa  positive  \n",
       "19  felicitats anna montañana dona formar part equ...  positive  \n",
       "20  asajasevilla fibesevilla philhoganeu mapamagob...  positive  \n",
       "21  gracias endesa averías nocturnas semana ido ca...  positive  \n",
       "44  enhorabuena annamontanana mereces granentrenad...  positive  \n",
       "51  acerca regreso titán fecha gustavo ayón vuelva...  negative  "
      ]
     },
     "execution_count": 71,
     "metadata": {},
     "output_type": "execute_result"
    }
   ],
   "source": [
    "df"
   ]
  },
  {
   "cell_type": "markdown",
   "metadata": {},
   "source": [
    "Como se puede observar, el resultado del estudio no es el esperado, dado que tan solo hay un tweet negativo de entre los tweets no neutrales analizados, lo cual se debe a que Endesa, al ser la empresa patrocinadora de la Liga Endesa de Baloncesto en España, coincide con que los tweets recuperados entre dichas fechas aluden a la celebración de un triunfo de Anna Montaña, que fue una jugadora de baloncesto y es entrenadora española de baloncesto."
   ]
  },
  {
   "cell_type": "markdown",
   "metadata": {},
   "source": [
    "---\n",
    "## Conclusiones"
   ]
  },
  {
   "cell_type": "markdown",
   "metadata": {},
   "source": [
    "Tal y como se ha podido observar, este caso de estudio no ha sido exitoso debido a que es díficil determinar el comportamiento de una empresa en bolsa, cuando el nombre de la misma empresa no alude directamente a la empresa sino a productos de esta. Con esto se buscará determinar en un futuro el como discernir entre tweets que pueden afectar o no a la empresa de tweets que sí, de modo que se pueda contrastar dicha información con las noticias, sucesos, etc."
   ]
  },
  {
   "cell_type": "markdown",
   "metadata": {},
   "source": [
    "El NLP en español y, más en concreto, el análisis de sentimiento en opinión en español es un campo de la Inteligencia Artificial con un largo camino e investigación por delante. El hecho de que no esté tan desarrollado se debe a que en el NLP únicamente, o al menos principalmente, se desarrollan y crean tanto soluciones como datasets en inglés, con lo que hace del NLP en español algo más tedioso."
   ]
  },
  {
   "cell_type": "markdown",
   "metadata": {},
   "source": [
    "Adicionalmente, a modo de \"Trabajo Futuro\", se propone el uso de **Wikipedia** para recuperar la página de Endesa, de modo que las keywords de la búsqueda en Twitter sean más refinadas y aludan no solo a la propia empresa, sino también al sector en el que opera, o a las características del mismo."
   ]
  },
  {
   "cell_type": "markdown",
   "metadata": {},
   "source": [
    "---\n",
    "## Licencia"
   ]
  },
  {
   "cell_type": "markdown",
   "metadata": {},
   "source": [
    "MIT License\n",
    "\n",
    "Copyright (c) 2019 Álvaro Bartolomé del Canto\n",
    "\n",
    "Permission is hereby granted, free of charge, to any person obtaining a copy\n",
    "of this software and associated documentation files (the \"Software\"), to deal\n",
    "in the Software without restriction, including without limitation the rights\n",
    "to use, copy, modify, merge, publish, distribute, sublicense, and/or sell\n",
    "copies of the Software, and to permit persons to whom the Software is\n",
    "furnished to do so, subject to the following conditions:\n",
    "\n",
    "The above copyright notice and this permission notice shall be included in all\n",
    "copies or substantial portions of the Software.\n",
    "\n",
    "THE SOFTWARE IS PROVIDED \"AS IS\", WITHOUT WARRANTY OF ANY KIND, EXPRESS OR\n",
    "IMPLIED, INCLUDING BUT NOT LIMITED TO THE WARRANTIES OF MERCHANTABILITY,\n",
    "FITNESS FOR A PARTICULAR PURPOSE AND NONINFRINGEMENT. IN NO EVENT SHALL THE\n",
    "AUTHORS OR COPYRIGHT HOLDERS BE LIABLE FOR ANY CLAIM, DAMAGES OR OTHER\n",
    "LIABILITY, WHETHER IN AN ACTION OF CONTRACT, TORT OR OTHERWISE, ARISING FROM,\n",
    "OUT OF OR IN CONNECTION WITH THE SOFTWARE OR THE USE OR OTHER DEALINGS IN THE\n",
    "SOFTWARE."
   ]
  },
  {
   "cell_type": "markdown",
   "metadata": {},
   "source": [
    "---\n",
    "## Autor"
   ]
  },
  {
   "cell_type": "markdown",
   "metadata": {},
   "source": [
    "**Álvaro Bartolomé del Canto, 2018-2019**"
   ]
  }
 ],
 "metadata": {
  "kernelspec": {
   "display_name": "Python 3",
   "language": "python",
   "name": "python3"
  },
  "language_info": {
   "codemirror_mode": {
    "name": "ipython",
    "version": 3
   },
   "file_extension": ".py",
   "mimetype": "text/x-python",
   "name": "python",
   "nbconvert_exporter": "python",
   "pygments_lexer": "ipython3",
   "version": "3.7.3"
  }
 },
 "nbformat": 4,
 "nbformat_minor": 2
}
