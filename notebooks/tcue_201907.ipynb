{
 "cells": [
  {
   "cell_type": "code",
   "execution_count": 1,
   "metadata": {},
   "outputs": [],
   "source": [
    "import investpy"
   ]
  },
  {
   "cell_type": "code",
   "execution_count": 2,
   "metadata": {},
   "outputs": [],
   "source": [
    "df = investpy.get_historical_data('endesa', '01/01/2000', '01/01/2019')"
   ]
  },
  {
   "cell_type": "code",
   "execution_count": 3,
   "metadata": {},
   "outputs": [
    {
     "data": {
      "text/html": [
       "<div>\n",
       "<style scoped>\n",
       "    .dataframe tbody tr th:only-of-type {\n",
       "        vertical-align: middle;\n",
       "    }\n",
       "\n",
       "    .dataframe tbody tr th {\n",
       "        vertical-align: top;\n",
       "    }\n",
       "\n",
       "    .dataframe thead th {\n",
       "        text-align: right;\n",
       "    }\n",
       "</style>\n",
       "<table border=\"1\" class=\"dataframe\">\n",
       "  <thead>\n",
       "    <tr style=\"text-align: right;\">\n",
       "      <th></th>\n",
       "      <th>Close</th>\n",
       "      <th>High</th>\n",
       "      <th>Low</th>\n",
       "      <th>Open</th>\n",
       "      <th>Volume</th>\n",
       "    </tr>\n",
       "    <tr>\n",
       "      <th>Date</th>\n",
       "      <th></th>\n",
       "      <th></th>\n",
       "      <th></th>\n",
       "      <th></th>\n",
       "      <th></th>\n",
       "    </tr>\n",
       "  </thead>\n",
       "  <tbody>\n",
       "    <tr>\n",
       "      <th>2011-06-24</th>\n",
       "      <td>21.910</td>\n",
       "      <td>22.46</td>\n",
       "      <td>21.76</td>\n",
       "      <td>22.23</td>\n",
       "      <td>387130</td>\n",
       "    </tr>\n",
       "    <tr>\n",
       "      <th>2011-06-27</th>\n",
       "      <td>21.940</td>\n",
       "      <td>22.05</td>\n",
       "      <td>21.76</td>\n",
       "      <td>21.87</td>\n",
       "      <td>317400</td>\n",
       "    </tr>\n",
       "    <tr>\n",
       "      <th>2011-06-28</th>\n",
       "      <td>22.110</td>\n",
       "      <td>22.22</td>\n",
       "      <td>21.81</td>\n",
       "      <td>21.97</td>\n",
       "      <td>313830</td>\n",
       "    </tr>\n",
       "    <tr>\n",
       "      <th>2011-06-29</th>\n",
       "      <td>22.605</td>\n",
       "      <td>22.63</td>\n",
       "      <td>22.23</td>\n",
       "      <td>22.23</td>\n",
       "      <td>256290</td>\n",
       "    </tr>\n",
       "    <tr>\n",
       "      <th>2011-06-30</th>\n",
       "      <td>22.960</td>\n",
       "      <td>23.09</td>\n",
       "      <td>22.54</td>\n",
       "      <td>22.63</td>\n",
       "      <td>852370</td>\n",
       "    </tr>\n",
       "  </tbody>\n",
       "</table>\n",
       "</div>"
      ],
      "text/plain": [
       "             Close   High    Low   Open  Volume\n",
       "Date                                           \n",
       "2011-06-24  21.910  22.46  21.76  22.23  387130\n",
       "2011-06-27  21.940  22.05  21.76  21.87  317400\n",
       "2011-06-28  22.110  22.22  21.81  21.97  313830\n",
       "2011-06-29  22.605  22.63  22.23  22.23  256290\n",
       "2011-06-30  22.960  23.09  22.54  22.63  852370"
      ]
     },
     "execution_count": 3,
     "metadata": {},
     "output_type": "execute_result"
    }
   ],
   "source": [
    "df.head()"
   ]
  },
  {
   "cell_type": "code",
   "execution_count": 4,
   "metadata": {},
   "outputs": [
    {
     "data": {
      "text/plain": [
       "1924"
      ]
     },
     "execution_count": 4,
     "metadata": {},
     "output_type": "execute_result"
    }
   ],
   "source": [
    "len(df)"
   ]
  },
  {
   "cell_type": "code",
   "execution_count": 5,
   "metadata": {},
   "outputs": [
    {
     "data": {
      "text/html": [
       "<div>\n",
       "<style scoped>\n",
       "    .dataframe tbody tr th:only-of-type {\n",
       "        vertical-align: middle;\n",
       "    }\n",
       "\n",
       "    .dataframe tbody tr th {\n",
       "        vertical-align: top;\n",
       "    }\n",
       "\n",
       "    .dataframe thead th {\n",
       "        text-align: right;\n",
       "    }\n",
       "</style>\n",
       "<table border=\"1\" class=\"dataframe\">\n",
       "  <thead>\n",
       "    <tr style=\"text-align: right;\">\n",
       "      <th></th>\n",
       "      <th>Close</th>\n",
       "      <th>High</th>\n",
       "      <th>Low</th>\n",
       "      <th>Open</th>\n",
       "      <th>Volume</th>\n",
       "    </tr>\n",
       "  </thead>\n",
       "  <tbody>\n",
       "    <tr>\n",
       "      <th>count</th>\n",
       "      <td>1924.000000</td>\n",
       "      <td>1924.000000</td>\n",
       "      <td>1924.000000</td>\n",
       "      <td>1924.000000</td>\n",
       "      <td>1.924000e+03</td>\n",
       "    </tr>\n",
       "    <tr>\n",
       "      <th>mean</th>\n",
       "      <td>16.514761</td>\n",
       "      <td>16.677868</td>\n",
       "      <td>16.346246</td>\n",
       "      <td>16.520087</td>\n",
       "      <td>1.095860e+06</td>\n",
       "    </tr>\n",
       "    <tr>\n",
       "      <th>std</th>\n",
       "      <td>3.435027</td>\n",
       "      <td>3.454310</td>\n",
       "      <td>3.427306</td>\n",
       "      <td>3.446053</td>\n",
       "      <td>1.226298e+06</td>\n",
       "    </tr>\n",
       "    <tr>\n",
       "      <th>min</th>\n",
       "      <td>8.416000</td>\n",
       "      <td>8.550000</td>\n",
       "      <td>8.340000</td>\n",
       "      <td>8.418000</td>\n",
       "      <td>6.165000e+04</td>\n",
       "    </tr>\n",
       "    <tr>\n",
       "      <th>25%</th>\n",
       "      <td>14.751250</td>\n",
       "      <td>14.900000</td>\n",
       "      <td>14.577500</td>\n",
       "      <td>14.742750</td>\n",
       "      <td>3.742825e+05</td>\n",
       "    </tr>\n",
       "    <tr>\n",
       "      <th>50%</th>\n",
       "      <td>17.347500</td>\n",
       "      <td>17.550000</td>\n",
       "      <td>17.172500</td>\n",
       "      <td>17.360000</td>\n",
       "      <td>8.823650e+05</td>\n",
       "    </tr>\n",
       "    <tr>\n",
       "      <th>75%</th>\n",
       "      <td>19.031250</td>\n",
       "      <td>19.216250</td>\n",
       "      <td>18.900000</td>\n",
       "      <td>19.070000</td>\n",
       "      <td>1.470000e+06</td>\n",
       "    </tr>\n",
       "    <tr>\n",
       "      <th>max</th>\n",
       "      <td>22.960000</td>\n",
       "      <td>23.090000</td>\n",
       "      <td>22.590000</td>\n",
       "      <td>22.800000</td>\n",
       "      <td>3.094000e+07</td>\n",
       "    </tr>\n",
       "  </tbody>\n",
       "</table>\n",
       "</div>"
      ],
      "text/plain": [
       "             Close         High          Low         Open        Volume\n",
       "count  1924.000000  1924.000000  1924.000000  1924.000000  1.924000e+03\n",
       "mean     16.514761    16.677868    16.346246    16.520087  1.095860e+06\n",
       "std       3.435027     3.454310     3.427306     3.446053  1.226298e+06\n",
       "min       8.416000     8.550000     8.340000     8.418000  6.165000e+04\n",
       "25%      14.751250    14.900000    14.577500    14.742750  3.742825e+05\n",
       "50%      17.347500    17.550000    17.172500    17.360000  8.823650e+05\n",
       "75%      19.031250    19.216250    18.900000    19.070000  1.470000e+06\n",
       "max      22.960000    23.090000    22.590000    22.800000  3.094000e+07"
      ]
     },
     "execution_count": 5,
     "metadata": {},
     "output_type": "execute_result"
    }
   ],
   "source": [
    "df.describe()"
   ]
  },
  {
   "cell_type": "code",
   "execution_count": 6,
   "metadata": {},
   "outputs": [],
   "source": [
    "import matplotlib.pyplot as plt\n",
    "import seaborn as sns"
   ]
  },
  {
   "cell_type": "code",
   "execution_count": 7,
   "metadata": {},
   "outputs": [],
   "source": [
    "import copy"
   ]
  },
  {
   "cell_type": "code",
   "execution_count": 8,
   "metadata": {},
   "outputs": [],
   "source": [
    "aux = copy.deepcopy(df)"
   ]
  },
  {
   "cell_type": "code",
   "execution_count": 9,
   "metadata": {},
   "outputs": [
    {
     "data": {
      "text/plain": [
       "Index(['Close', 'High', 'Low', 'Open', 'Volume'], dtype='object')"
      ]
     },
     "execution_count": 9,
     "metadata": {},
     "output_type": "execute_result"
    }
   ],
   "source": [
    "aux.columns"
   ]
  },
  {
   "cell_type": "code",
   "execution_count": 10,
   "metadata": {},
   "outputs": [],
   "source": [
    "aux = aux.drop(columns=['Volume'])"
   ]
  },
  {
   "cell_type": "code",
   "execution_count": 11,
   "metadata": {
    "scrolled": true
   },
   "outputs": [
    {
     "data": {
      "text/plain": [
       "<matplotlib.axes._subplots.AxesSubplot at 0x1b152b5dba8>"
      ]
     },
     "execution_count": 11,
     "metadata": {},
     "output_type": "execute_result"
    },
    {
     "data": {
      "image/png": "[encoded data removed]",
      "text/plain": [
       "<Figure size 432x288 with 2 Axes>"
      ]
     },
     "metadata": {
      "needs_background": "light"
     },
     "output_type": "display_data"
    }
   ],
   "source": [
    "sns.heatmap(aux.corr())"
   ]
  },
  {
   "cell_type": "code",
   "execution_count": 12,
   "metadata": {},
   "outputs": [],
   "source": [
    "from sklearn.model_selection import train_test_split\n",
    "\n",
    "from sklearn.neural_network import MLPRegressor"
   ]
  },
  {
   "cell_type": "code",
   "execution_count": 13,
   "metadata": {},
   "outputs": [],
   "source": [
    "X = [[value] for value in df['Open'].values]\n",
    "y = df['Close'].values.tolist()\n",
    "\n",
    "X_train, X_test, y_train, y_test = train_test_split(X, y, test_size=0.20, random_state=1, shuffle=False)"
   ]
  },
  {
   "cell_type": "code",
   "execution_count": 14,
   "metadata": {},
   "outputs": [
    {
     "name": "stdout",
     "output_type": "stream",
     "text": [
      "0.9566809046137186\n"
     ]
    }
   ],
   "source": [
    "mlp_close = MLPRegressor(activation='relu', hidden_layer_sizes=13, learning_rate='constant', shuffle=False, solver='lbfgs')\n",
    "mlp_close.fit(X_train, y_train)\n",
    "\n",
    "prediction = mlp_close.predict(X_test)\n",
    "\n",
    "print(mlp_close.score(X_test, y_test))"
   ]
  },
  {
   "cell_type": "code",
   "execution_count": 15,
   "metadata": {},
   "outputs": [],
   "source": [
    "X = [[value] for value in df['Close'].values]\n",
    "y = df['Open'].values.tolist()\n",
    "\n",
    "X_train, X_test, y_train, y_test = train_test_split(X, y, test_size=0.20, random_state=1, shuffle=False)"
   ]
  },
  {
   "cell_type": "code",
   "execution_count": 16,
   "metadata": {},
   "outputs": [
    {
     "name": "stdout",
     "output_type": "stream",
     "text": [
      "0.9562573901924863\n"
     ]
    }
   ],
   "source": [
    "mlp_open = MLPRegressor(activation='relu', hidden_layer_sizes=13, learning_rate='constant', shuffle=False, solver='lbfgs')\n",
    "mlp_open.fit(X_train, y_train)\n",
    "\n",
    "prediction = mlp_open.predict(X_test)\n",
    "\n",
    "print(mlp_open.score(X_test, y_test))"
   ]
  },
  {
   "cell_type": "code",
   "execution_count": 17,
   "metadata": {},
   "outputs": [
    {
     "data": {
      "text/plain": [
       "array([20.57078868, 20.17543011, 20.26050727, 20.18043465, 20.11537564,\n",
       "       19.94021678, 19.92520316, 19.94021678, 19.63994444, 19.86514869,\n",
       "       19.86514869, 19.85013508, 19.87515777, 19.94021678, 20.08534841,\n",
       "       19.97524855, 19.84513054, 19.70500345, 19.7500443 , 20.44567521,\n",
       "       20.28552996, 19.86514869, 20.01528486, 20.23048003, 20.19544826,\n",
       "       20.3806162 , 20.60081592, 20.47570244, 20.58079776, 20.52074329,\n",
       "       20.50572968, 20.20545734, 20.61082499, 20.63084315, 20.82602017,\n",
       "       20.88607463, 20.64085223, 20.68088854, 20.59080684, 20.62083407,\n",
       "       20.56578414, 20.44567521, 20.40063436, 20.51073421, 20.26551181,\n",
       "       20.27051635, 20.28052542, 20.21046188, 20.7659657 , 20.76096116,\n",
       "       20.75095208, 20.57579322, 20.81100655, 20.73093393, 20.49071606,\n",
       "       20.0202894 , 20.12538472, 20.01028032, 20.16041649, 19.89517593,\n",
       "       19.59490359, 19.30464033, 19.4547765 , 19.29963579, 19.22957225,\n",
       "       19.01437707, 19.07943608, 18.69909112, 18.74413197, 18.2586917 ,\n",
       "       18.80418644, 18.65405027, 18.96433168, 18.96433168, 19.43475834,\n",
       "       19.52484005, 19.78507607, 19.4547765 , 19.30964487, 19.21455863,\n",
       "       19.10445877, 19.21956317, 19.11446785, 18.97434076, 18.69408658,\n",
       "       19.21956317, 19.07443154, 19.57988997, 19.65495806, 19.52484005,\n",
       "       19.38471295, 19.45978104, 19.41474019, 19.29963579, 19.1845314 ,\n",
       "       19.12447693, 18.99936346, 19.004368  , 18.82920913, 18.78917282,\n",
       "       18.83421367, 18.66405935, 18.5039141 , 18.28871893, 18.84922729,\n",
       "       19.04440431, 18.78917282, 18.65905481, 18.82420459, 18.99435892,\n",
       "       18.73912743, 18.56396857, 18.81419552, 18.87925452, 18.87925452,\n",
       "       19.15450416, 19.10445877, 18.88425906, 18.85923637, 18.64904573,\n",
       "       18.4138324 , 18.35377793, 18.66906389, 18.48389595, 18.57898219,\n",
       "       18.73412289, 18.96433168, 18.98935438, 17.89836489, 17.85832858,\n",
       "       17.76824688, 18.08853737, 18.30873708, 18.29372347, 18.12857368,\n",
       "       18.30373255, 18.26870077, 18.20364177, 18.21865538, 18.47889141,\n",
       "       18.83421367, 18.76415013, 18.65405027, 18.54395041, 18.62902758,\n",
       "       18.7991819 , 18.68908204, 18.6190185 , 18.75914559, 18.15359638,\n",
       "       18.03348744, 18.10355099, 17.97343298, 17.51301539, 17.08762958,\n",
       "       16.69727555, 16.86242533, 16.95250703, 16.60218931, 17.14267951,\n",
       "       16.84741172, 16.93248888, 17.04759327, 17.11265228, 17.03257966,\n",
       "       17.29281568, 17.01756604, 17.21274306, 17.60309709, 17.67816518,\n",
       "       17.63312433, 17.30282476, 17.41292462, 17.24777483, 17.5780744 ,\n",
       "       17.36788377, 17.37789284, 17.34286107, 17.43294277, 17.50801086,\n",
       "       17.45296093, 17.6681561 , 17.56306078, 17.57306986, 17.39290646,\n",
       "       17.3078293 , 17.29281568, 17.19772944, 17.11765682, 17.22275214,\n",
       "       17.59809256, 18.05851014, 17.88835581, 17.85832858, 17.92839213,\n",
       "       18.0284829 , 17.99345113, 18.00346021, 18.03348744, 17.90336943,\n",
       "       18.03849198, 18.49390502, 18.32875524, 18.56897311, 18.6840775 ,\n",
       "       18.60900942, 18.81419552, 18.88425906, 18.9142863 , 19.03439523,\n",
       "       19.27961764, 19.31464941, 19.37470388, 19.62993536, 19.5448582 ,\n",
       "       19.68498529, 19.67497621, 19.65495806, 19.47479466, 19.46478558,\n",
       "       19.46478558, 19.61492175, 19.73503068, 19.65495806, 19.92520316,\n",
       "       19.97524855, 19.94522132, 20.02529394, 19.95523039, 19.91519408,\n",
       "       19.35969026, 19.18953594, 18.9793453 , 19.05941792, 18.84922729,\n",
       "       19.00937253, 19.26460402, 18.9793453 , 19.004368  , 19.28462218,\n",
       "       19.01938161, 19.10445877, 19.28962672, 19.12447693, 19.50982643,\n",
       "       19.48980827, 19.26960856, 19.39972657, 19.60491267, 19.23457679,\n",
       "       19.42975381, 19.30964487, 19.47979919, 19.75504884, 18.8892636 ,\n",
       "       18.89927268, 19.07943608, 19.34968118, 19.66997167, 19.8151033 ,\n",
       "       19.95523039, 19.97524855, 20.02529394, 19.95022585, 20.10536656,\n",
       "       19.77006245, 19.72001706, 19.96023493, 19.87515777, 19.66496714,\n",
       "       19.69499437, 19.57988997, 19.37470388, 19.51483097, 19.58989905,\n",
       "       19.83011692, 19.74003522, 19.78507607, 19.68498529, 19.64494898,\n",
       "       19.6599626 , 19.77006245, 19.79508515, 19.7500443 , 19.7250216 ,\n",
       "       19.63994444, 19.7500443 , 19.7500443 , 19.57988997, 19.55486728,\n",
       "       19.62993536, 19.52984458, 19.54986274, 19.60491267, 19.57988997,\n",
       "       19.59490359, 19.61992628, 19.59490359, 19.61992628, 19.42474927,\n",
       "       19.29463125, 19.19954501, 19.32465849, 19.37970842, 19.42474927,\n",
       "       19.21455863, 19.28462218, 19.17452232, 18.85423183, 18.79417736,\n",
       "       18.7991819 , 19.02438615, 18.82920913, 18.74413197, 18.89927268,\n",
       "       18.65405027, 18.4138324 , 18.36378701, 18.55395949, 18.67406843,\n",
       "       18.61401396, 18.5039141 , 18.67907297, 18.72911835, 18.51892772,\n",
       "       18.73912743, 18.70409566, 18.95932715, 18.81920006, 17.97343298,\n",
       "       17.25277937, 17.32284291, 17.9384012 , 18.03348744, 18.21365084,\n",
       "       18.35377793, 18.39881879, 18.38380517, 18.43385056, 18.45386871,\n",
       "       18.46387779, 18.54395041, 18.57397765, 18.48389595, 18.47889141,\n",
       "       18.52393226, 18.68908204, 19.18953594, 19.59490359, 19.79508515,\n",
       "       19.85513961, 19.83011692, 19.98025309, 20.02529394, 20.00527578,\n",
       "       20.04531209, 20.2254755 , 20.27552088, 19.74003522, 19.73002614,\n",
       "       19.70500345, 19.96523947, 20.06533025, 19.97524855, 19.64995352,\n",
       "       19.68498529, 19.87015323, 20.08534841, 20.14540287, 20.05532117,\n",
       "       20.20545734, 20.16542103, 20.59581138, 20.87606556, 21.1262925 ,\n",
       "       21.07624711, 21.11628343, 20.89608371, 21.13630158, 21.08625619,\n",
       "       21.08625619, 21.27642867, 20.42565705, 19.9302077 , 20.13539379])"
      ]
     },
     "execution_count": 17,
     "metadata": {},
     "output_type": "execute_result"
    }
   ],
   "source": [
    "prediction"
   ]
  },
  {
   "cell_type": "code",
   "execution_count": 18,
   "metadata": {},
   "outputs": [],
   "source": [
    "aux['ds'] = aux.index.tolist()\n",
    "aux['y'] = aux['Close'].values.tolist()\n",
    "\n",
    "aux.reset_index()\n",
    "\n",
    "aux = aux.drop(columns=['Close', 'High', 'Low', 'Open'])"
   ]
  },
  {
   "cell_type": "code",
   "execution_count": 19,
   "metadata": {},
   "outputs": [
    {
     "data": {
      "text/plain": [
       "Index(['ds', 'y'], dtype='object')"
      ]
     },
     "execution_count": 19,
     "metadata": {},
     "output_type": "execute_result"
    }
   ],
   "source": [
    "aux.columns"
   ]
  },
  {
   "cell_type": "code",
   "execution_count": null,
   "metadata": {},
   "outputs": [],
   "source": [
    "import sys\n",
    "!{sys.executable} -m pip install fbprophet"
   ]
  },
  {
   "cell_type": "code",
   "execution_count": null,
   "metadata": {},
   "outputs": [],
   "source": [
    "from fbprophet import Prophet"
   ]
  },
  {
   "cell_type": "code",
   "execution_count": null,
   "metadata": {},
   "outputs": [],
   "source": [
    "m = Prophet()\n",
    "m.fit(aux)"
   ]
  },
  {
   "cell_type": "code",
   "execution_count": null,
   "metadata": {},
   "outputs": [],
   "source": [
    "future = m.make_future_dataframe(periods=5)"
   ]
  },
  {
   "cell_type": "code",
   "execution_count": null,
   "metadata": {},
   "outputs": [],
   "source": [
    "forecast = m.predict(future)"
   ]
  },
  {
   "cell_type": "code",
   "execution_count": null,
   "metadata": {},
   "outputs": [],
   "source": [
    "m.plot_components(forecast)"
   ]
  },
  {
   "cell_type": "code",
   "execution_count": null,
   "metadata": {},
   "outputs": [],
   "source": []
  }
 ],
 "metadata": {
  "kernelspec": {
   "display_name": "Python 3",
   "language": "python",
   "name": "python3"
  },
  "language_info": {
   "codemirror_mode": {
    "name": "ipython",
    "version": 3
   },
   "file_extension": ".py",
   "mimetype": "text/x-python",
   "name": "python",
   "nbconvert_exporter": "python",
   "pygments_lexer": "ipython3",
   "version": "3.7.3"
  }
 },
 "nbformat": 4,
 "nbformat_minor": 2
}
